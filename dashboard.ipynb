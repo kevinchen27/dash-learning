{
 "cells": [
  {
   "cell_type": "markdown",
   "metadata": {},
   "source": [
    "## Dash\n",
    "- For creating dashboards in python\n",
    "- Served as web apps that you can deploy, not static html files\n",
    "- Composed of 2 parts: layout and interactivity like how moving sldier affects visualization"
   ]
  },
  {
   "cell_type": "code",
   "execution_count": 3,
   "metadata": {},
   "outputs": [],
   "source": [
    "import dash\n",
    "import dash_core_components as dcc\n",
    "import dash_html_components as html\n",
    "import plotly.graph_objs as go\n",
    "import numpy as np\n",
    "import pandas as pd"
   ]
  },
  {
   "cell_type": "code",
   "execution_count": 5,
   "metadata": {},
   "outputs": [],
   "source": [
    "app = dash.Dash()\n",
    "\n",
    "app.layout = html.Div() #creates a division in our dashboard to insert things"
   ]
  },
  {
   "cell_type": "code",
   "execution_count": 7,
   "metadata": {
    "scrolled": true
   },
   "outputs": [
    {
     "name": "stdout",
     "output_type": "stream",
     "text": [
      " * Serving Flask app \"dash\" (lazy loading)\n",
      " * Environment: production\n",
      "   WARNING: This is a development server. Do not use it in a production deployment.\n",
      "   Use a production WSGI server instead.\n",
      " * Debug mode: off\n"
     ]
    },
    {
     "name": "stderr",
     "output_type": "stream",
     "text": [
      " * Running on http://127.0.0.1:8050/ (Press CTRL+C to quit)\n",
      "127.0.0.1 - - [28/Aug/2019 15:15:35] \"GET / HTTP/1.1\" 200 -\n",
      "127.0.0.1 - - [28/Aug/2019 15:15:36] \"GET /_dash-layout HTTP/1.1\" 200 -\n",
      "127.0.0.1 - - [28/Aug/2019 15:15:36] \"GET /_dash-dependencies HTTP/1.1\" 200 -\n",
      "127.0.0.1 - - [28/Aug/2019 15:15:37] \"GET /favicon.ico HTTP/1.1\" 200 -\n"
     ]
    }
   ],
   "source": [
    "app.layout = html.Div(children = [    \n",
    "    html.H1(\"Hello Dash!\"), \n",
    "    html.Div(\"Dash: Web Dashboard with Python\"),\n",
    "    dcc.Graph(id= \"example\", #dcc - dash core component and id for reference\n",
    "             figure = {\"data\":[  #figure will take in dictionary\n",
    "                 {\"x\":[1,2,3],\"y\":[4,1,2],\"type\":\"bar\",\"name\":\"SF\"},\n",
    "                 {\"x\":[1,2,3],\"y\":[2,4,5],\"type\":\"bar\",\"name\":\"NYC\"}\n",
    "             ],\n",
    "                      \"layout\":{   #figure will have key for data and dictionary\n",
    "                          \"title\":\"BAR PLOTS!\" \n",
    "                      }}) #everything inside the div is a cjildren's list\n",
    "                ])\n",
    "\n",
    "if __name__ == '__main__': #checks if im running this script, it will grab application obj and run the server \n",
    "    app.run_server()\n",
    "\n",
    "#you have to keep running the server for the web application to work\n",
    "#again, creat dash app, then call html.Div which will be contianer for Dash core components\n",
    "#dcc.Graph() will be common component we use, which will have id, figure, layout and then run server"
   ]
  },
  {
   "cell_type": "code",
   "execution_count": 23,
   "metadata": {},
   "outputs": [
    {
     "name": "stdout",
     "output_type": "stream",
     "text": [
      " * Serving Flask app \"dash\" (lazy loading)\n",
      " * Environment: production\n",
      "   WARNING: This is a development server. Do not use it in a production deployment.\n",
      "   Use a production WSGI server instead.\n",
      " * Debug mode: off\n"
     ]
    },
    {
     "name": "stderr",
     "output_type": "stream",
     "text": [
      " * Running on http://127.0.0.1:8050/ (Press CTRL+C to quit)\n",
      "127.0.0.1 - - [27/Aug/2019 10:47:33] \"GET / HTTP/1.1\" 200 -\n",
      "127.0.0.1 - - [27/Aug/2019 10:47:37] \"GET /_dash-layout HTTP/1.1\" 200 -\n",
      "127.0.0.1 - - [27/Aug/2019 10:47:37] \"GET /_dash-dependencies HTTP/1.1\" 200 -\n",
      "127.0.0.1 - - [27/Aug/2019 10:47:38] \"GET /favicon.ico HTTP/1.1\" 200 -\n"
     ]
    }
   ],
   "source": [
    "#app = dash.Dash()\n",
    "\n",
    "#app.layout = html.Div()\n",
    "\n",
    "#colors dictionary\n",
    "colors = {\"background\":\"#1111111\",\"text\":\"#7FDBFF\"} #this would allow us to say colors and call text to call etxt color we decded on\n",
    "\n",
    "\n",
    "app.layout = html.Div(children = [\n",
    "    html.H1(\"Hello Dash!\",style = {\"textAlign\":\"center\",\n",
    "                                  \"color\": colors[\"text\"]}), #pass in style, aligns text to the center \n",
    "    html.Div(\"Dash: Web Dashboard with Python\"),\n",
    "    dcc.Graph(id=\"example\",\n",
    "             figure = {\"data\":[\n",
    "                 {\"x\":[1,2,3],\"y\":[4,1,2],\"type\":\"bar\",\"name\":\"SF\"},\n",
    "                 {\"x\":[1,2,3],\"y\":[2,4,5],\"type\":\"bar\",\"name\":\"NYC\"}\n",
    "             ],\n",
    "                      \"layout\":{\n",
    "                          \n",
    "                          \"plot_bgcolor\":colors[\"background\"],#background color of actual plot\n",
    "                          \"paper_bgcolor\":colors[\"background\"],\n",
    "                          \"font\":{\"color\":colors[\"text\"]}, #font requires dictionary\n",
    "                          \"title\":\"BAR PLOTS!\"\n",
    "                      }})\n",
    "], style = {\"backgroundColor\":colors[\"background\"]}\n",
    "                     )\n",
    "\n",
    "if __name__ == '__main__': #checks if im running this script, it will grab application obj and run the server \n",
    "    app.run_server()"
   ]
  },
  {
   "cell_type": "markdown",
   "metadata": {},
   "source": [
    "# Plotly Plot to Dashboard with Dash"
   ]
  },
  {
   "cell_type": "code",
   "execution_count": 9,
   "metadata": {},
   "outputs": [
    {
     "data": {
      "text/plain": [
       "array([ 52,  93,  15,  72,  61,  21,  83,  87,  75,  75,  88, 100,  24,\n",
       "         3,  22,  53,   2,  88,  30,  38,   2,  64,  60,  21,  33,  76,\n",
       "        58,  22,  89,  49,  91,  59,  42,  92,  60,  80,  15,  62,  62,\n",
       "        47,  62,  51,  55,  64,   3,  51,   7,  21,  73,  39,  18,   4,\n",
       "        89,  60,  14,   9,  90,  53,   2,  84,  92,  60,  71,  44,   8,\n",
       "        47,  35,  78,  81,  36,  50,   4,   2,   6,  54,   4,  54,  93,\n",
       "        63,  18,  90,  44,  34,  74,  62, 100,  14,  95,  48,  15,  72,\n",
       "        78,  87,  62,  40,  85,  80,  82,  53,  24])"
      ]
     },
     "execution_count": 9,
     "metadata": {},
     "output_type": "execute_result"
    }
   ],
   "source": [
    "app = dash.Dash()\n",
    "\n",
    "#Create Data\n",
    "np.random.seed(42)\n",
    "random_x = np.random.randint(1,101,100)\n",
    "random_y = np.random.randint(1,101,100)\n",
    "random_x"
   ]
  },
  {
   "cell_type": "code",
   "execution_count": 28,
   "metadata": {},
   "outputs": [
    {
     "name": "stdout",
     "output_type": "stream",
     "text": [
      " * Serving Flask app \"dash\" (lazy loading)\n",
      " * Environment: production\n",
      "   WARNING: This is a development server. Do not use it in a production deployment.\n",
      "   Use a production WSGI server instead.\n",
      " * Debug mode: off\n"
     ]
    },
    {
     "name": "stderr",
     "output_type": "stream",
     "text": [
      " * Running on http://127.0.0.1:8050/ (Press CTRL+C to quit)\n",
      "INFO:werkzeug: * Running on http://127.0.0.1:8050/ (Press CTRL+C to quit)\n"
     ]
    }
   ],
   "source": [
    "app.layout = html.Div([dcc.Graph(id = \"scatterplot\",#everything we will be inseting belongs to this Div\n",
    "                                figure = {\"data\":[\n",
    "                                    go.Scatter(\n",
    "                                    x=random_x,\n",
    "                                    y=random_y,\n",
    "                                    mode = \"markers\",\n",
    "                                    marker = {\"size\":12,\n",
    "                                             \"color\":\"rgb(51,204,153)\",\n",
    "                                             \"symbol\":\"pentagon\",\n",
    "                                             \"line\":{\"width\":2}}\n",
    "                                    )],\n",
    "                                         \"layout\":go.Layout(title = \"My Scatterplot\",\n",
    "                                                            xaxis = {\"title\":\"Some X title\"})}\n",
    "                                )]) #dc.Graph enters the plotly graph for dashboard\n",
    "\n",
    "if __name__ == \"__main__\":\n",
    "    app.run_server()\n",
    "    \n",
    "#the html.Div will have a list, and inside it will have the graph component which will accept the plotly figure"
   ]
  },
  {
   "cell_type": "markdown",
   "metadata": {},
   "source": [
    "## Multiple components in dashboard"
   ]
  },
  {
   "cell_type": "code",
   "execution_count": 32,
   "metadata": {},
   "outputs": [
    {
     "name": "stdout",
     "output_type": "stream",
     "text": [
      " * Serving Flask app \"dash\" (lazy loading)\n",
      " * Environment: production\n",
      "   WARNING: This is a development server. Do not use it in a production deployment.\n",
      "   Use a production WSGI server instead.\n",
      " * Debug mode: off\n"
     ]
    },
    {
     "name": "stderr",
     "output_type": "stream",
     "text": [
      " * Running on http://127.0.0.1:8050/ (Press CTRL+C to quit)\n",
      "INFO:werkzeug: * Running on http://127.0.0.1:8050/ (Press CTRL+C to quit)\n",
      "127.0.0.1 - - [27/Aug/2019 11:01:45] \"GET / HTTP/1.1\" 200 -\n",
      "INFO:werkzeug:127.0.0.1 - - [27/Aug/2019 11:01:45] \"GET / HTTP/1.1\" 200 -\n",
      "127.0.0.1 - - [27/Aug/2019 11:01:47] \"GET /_dash-layout HTTP/1.1\" 200 -\n",
      "INFO:werkzeug:127.0.0.1 - - [27/Aug/2019 11:01:47] \"GET /_dash-layout HTTP/1.1\" 200 -\n",
      "127.0.0.1 - - [27/Aug/2019 11:01:47] \"GET /_dash-dependencies HTTP/1.1\" 200 -\n",
      "INFO:werkzeug:127.0.0.1 - - [27/Aug/2019 11:01:47] \"GET /_dash-dependencies HTTP/1.1\" 200 -\n",
      "127.0.0.1 - - [27/Aug/2019 11:01:47] \"GET /favicon.ico HTTP/1.1\" 200 -\n",
      "INFO:werkzeug:127.0.0.1 - - [27/Aug/2019 11:01:47] \"GET /favicon.ico HTTP/1.1\" 200 -\n",
      "127.0.0.1 - - [27/Aug/2019 11:02:11] \"GET / HTTP/1.1\" 200 -\n",
      "INFO:werkzeug:127.0.0.1 - - [27/Aug/2019 11:02:11] \"GET / HTTP/1.1\" 200 -\n",
      "127.0.0.1 - - [27/Aug/2019 11:02:12] \"GET /_dash-layout HTTP/1.1\" 200 -\n",
      "INFO:werkzeug:127.0.0.1 - - [27/Aug/2019 11:02:12] \"GET /_dash-layout HTTP/1.1\" 200 -\n",
      "127.0.0.1 - - [27/Aug/2019 11:02:12] \"GET /_dash-dependencies HTTP/1.1\" 200 -\n",
      "INFO:werkzeug:127.0.0.1 - - [27/Aug/2019 11:02:12] \"GET /_dash-dependencies HTTP/1.1\" 200 -\n",
      "127.0.0.1 - - [27/Aug/2019 11:02:12] \"GET /favicon.ico HTTP/1.1\" 200 -\n",
      "INFO:werkzeug:127.0.0.1 - - [27/Aug/2019 11:02:12] \"GET /favicon.ico HTTP/1.1\" 200 -\n"
     ]
    }
   ],
   "source": [
    "app.layout = html.Div([dcc.Graph(id='scatterplot', #we use id as a reference\n",
    "                    figure = {'data':[  #figure will have data and layout key\n",
    "                            go.Scatter(\n",
    "                            x=random_x,\n",
    "                            y=random_y,\n",
    "                            mode='markers',\n",
    "                            marker = {\n",
    "                                'size':12,\n",
    "                                'color': 'rgb(51,204,153)',\n",
    "                                'symbol':'pentagon',\n",
    "                                'line':{'width':2}\n",
    "                            }\n",
    "                            )],\n",
    "                    'layout':go.Layout(title='My Scatterplot',\n",
    "                                        xaxis = {'title':'Some X title'})}\n",
    "                    ),\n",
    "                    dcc.Graph(id='scatterplot2',\n",
    "                                        figure = {'data':[\n",
    "                                                go.Scatter(\n",
    "                                                x=random_x,\n",
    "                                                y=random_y,\n",
    "                                                mode='markers',\n",
    "                                                marker = {\n",
    "                                                    'size':12,\n",
    "                                                    'color': 'rgb(200,204,53)',\n",
    "                                                    'symbol':'pentagon',\n",
    "                                                    'line':{'width':2}\n",
    "                                                }\n",
    "                                                )],\n",
    "                                        'layout':go.Layout(title='Second Plot',\n",
    "                                                            xaxis = {'title':'Some X title'})}\n",
    "                                        )])\n",
    "\n",
    "if __name__ == '__main__':\n",
    "    app.run_server()"
   ]
  },
  {
   "cell_type": "markdown",
   "metadata": {},
   "source": [
    "## Exercise: Build dashboard that imports oldfaithful.csv from data directory and displays scatterplot.\n",
    "Fieled names are:\n",
    "- \"D\" = date of recordings in month in Aug\n",
    "- \"X\" = duration of current eruption in mins\n",
    "- \"Y\" wiaitng until the ext eruption in mins"
   ]
  },
  {
   "cell_type": "code",
   "execution_count": 11,
   "metadata": {},
   "outputs": [
    {
     "name": "stdout",
     "output_type": "stream",
     "text": [
      "   D   Y    X\n",
      "0  1  78  4.4\n",
      "1  1  74  3.9\n",
      "2  1  68  4.0\n",
      "3  1  76  4.0\n",
      "4  1  80  3.5\n",
      " * Serving Flask app \"dash\" (lazy loading)\n",
      " * Environment: production\n",
      "   WARNING: This is a development server. Do not use it in a production deployment.\n",
      "   Use a production WSGI server instead.\n",
      " * Debug mode: off\n"
     ]
    },
    {
     "name": "stderr",
     "output_type": "stream",
     "text": [
      " * Running on http://127.0.0.1:8050/ (Press CTRL+C to quit)\n"
     ]
    }
   ],
   "source": [
    "app = dash.Dash()\n",
    "import pandas as pd\n",
    "df = pd.read_csv(\"OldFaithful.csv\")\n",
    "print(df.head())\n",
    "\n",
    "app.layout = html.Div([dcc.Graph(id = \"scatterplot\",\n",
    "                                 figure = {\"data\":[\n",
    "                                     go.Scatter(x = df[\"X\"],\n",
    "                                               y=df[\"Y\"],\n",
    "                                               mode = \"markers\",\n",
    "                                               marker = {\n",
    "                                               'size':12,\n",
    "                                                    'color': 'rgb(200,204,53)',\n",
    "                                                    'symbol':'pentagon',\n",
    "                                                    'line':{'width':2}\n",
    "                                                }\n",
    "                                                )],\n",
    "                                        'layout':go.Layout(title='Eruption Data',\n",
    "                                                            xaxis = {'title':'Duration of Current Eruption'})}\n",
    "                                        )])\n",
    "\n",
    "if __name__ == '__main__':\n",
    "    app.run_server()"
   ]
  },
  {
   "cell_type": "markdown",
   "metadata": {},
   "source": [
    "## Dash Components"
   ]
  },
  {
   "cell_type": "markdown",
   "metadata": {},
   "source": [
    "### HTML components\n",
    "- Describe layout of the page\n",
    "- Coe components describe the individual graphs themselves"
   ]
  },
  {
   "cell_type": "code",
   "execution_count": 11,
   "metadata": {},
   "outputs": [
    {
     "name": "stdout",
     "output_type": "stream",
     "text": [
      " * Serving Flask app \"dash\" (lazy loading)\n",
      " * Environment: production\n",
      "   WARNING: This is a development server. Do not use it in a production deployment.\n",
      "   Use a production WSGI server instead.\n",
      " * Debug mode: off\n"
     ]
    },
    {
     "name": "stderr",
     "output_type": "stream",
     "text": [
      " * Running on http://127.0.0.1:8050/ (Press CTRL+C to quit)\n",
      "127.0.0.1 - - [27/Aug/2019 11:45:28] \"GET / HTTP/1.1\" 200 -\n",
      "127.0.0.1 - - [27/Aug/2019 11:45:29] \"GET /_dash-layout HTTP/1.1\" 200 -\n",
      "127.0.0.1 - - [27/Aug/2019 11:45:29] \"GET /_dash-dependencies HTTP/1.1\" 200 -\n",
      "127.0.0.1 - - [27/Aug/2019 11:45:29] \"GET /favicon.ico HTTP/1.1\" 200 -\n"
     ]
    }
   ],
   "source": [
    "app = dash.Dash()\n",
    "#inserting divisions of html components\n",
    "app.layout = html.Div([\"This is outermost div\", #div element is a division, ie, section or block of the web app\n",
    "                      html.Div([\"This is an inner div\"], #nest a div - div inside list of first div\n",
    "                       style = {\"color\":\"red\"}), #css just styles the html component, style dic is outside of the div list\n",
    "                       html.Div([\"Another div\"],\n",
    "                               style ={\"color\":\"blue\",\"border\":\"3px blue solid\"})],\n",
    "                     style = {\"color\":\"green\",\"border\":\"2px green solid\"}) #each div you can pass in a style paramter\n",
    "\n",
    "if __name__ == \"__main__\":\n",
    "    app.run_server()"
   ]
  },
  {
   "cell_type": "markdown",
   "metadata": {},
   "source": [
    "## Core Components"
   ]
  },
  {
   "cell_type": "code",
   "execution_count": 17,
   "metadata": {
    "scrolled": true
   },
   "outputs": [
    {
     "name": "stdout",
     "output_type": "stream",
     "text": [
      " * Serving Flask app \"dash\" (lazy loading)\n",
      " * Environment: production\n",
      "   WARNING: This is a development server. Do not use it in a production deployment.\n",
      "   Use a production WSGI server instead.\n",
      " * Debug mode: off\n"
     ]
    },
    {
     "name": "stderr",
     "output_type": "stream",
     "text": [
      " * Running on http://127.0.0.1:8050/ (Press CTRL+C to quit)\n",
      "127.0.0.1 - - [27/Aug/2019 11:57:20] \"GET / HTTP/1.1\" 200 -\n",
      "127.0.0.1 - - [27/Aug/2019 11:57:21] \"GET /_dash-layout HTTP/1.1\" 200 -\n",
      "127.0.0.1 - - [27/Aug/2019 11:57:21] \"GET /_dash-dependencies HTTP/1.1\" 200 -\n",
      "127.0.0.1 - - [27/Aug/2019 11:57:21] \"GET /favicon.ico HTTP/1.1\" 200 -\n"
     ]
    }
   ],
   "source": [
    "app = dash.Dash()\n",
    "\n",
    "\n",
    "#Dropdowns and Sliders\n",
    "app.layout = html.Div([\n",
    "    #label call allows us to connect label to the core component at hand\n",
    "    html.Label(\"Dropdown\"),\n",
    "    dcc.Dropdown(options = [{\"label\":\"New York City\", #options is list of dictionaries\n",
    "                            \"value\":\"NYC\"}, #value that will get passed back when we select from dropdown menu\n",
    "                           {\"label\":\"San Francisco\", #label is New York City, value is NYC\n",
    "                            \"value\":\"SF\"} #user will see New Yourk City but program will see NYC, so conditional statements will sue value \n",
    "                           ],\n",
    "                value = \"SF\"),#outside the list, value is the default value\n",
    "                html.Label(\"Slider\"),\n",
    "    dcc.Slider(min = -10,max=10,step=0.5, value=0,\n",
    "              marks = {i: i for i in range(-10,10)}),\n",
    "    \n",
    "    \n",
    "    html.P(html.Label(\"Some Radio Items\")),#linked to the call after this\n",
    "    #html.P creates a paragraph\n",
    "    dcc.RadioItems(options = [{\"label\":\"New York City\",\n",
    "                            \"value\":\"NYC\"},\n",
    "                           {\"label\":\"San Francisco\",\n",
    "                            \"value\":\"SF\"}\n",
    "                           ],\n",
    "                value = \"SF\")\n",
    "])\n",
    "\n",
    "if __name__ == \"__main__\":\n",
    "    app.run_server()"
   ]
  }
 ],
 "metadata": {
  "kernelspec": {
   "display_name": "Python 3",
   "language": "python",
   "name": "python3"
  },
  "language_info": {
   "codemirror_mode": {
    "name": "ipython",
    "version": 3
   },
   "file_extension": ".py",
   "mimetype": "text/x-python",
   "name": "python",
   "nbconvert_exporter": "python",
   "pygments_lexer": "ipython3",
   "version": "3.7.3"
  }
 },
 "nbformat": 4,
 "nbformat_minor": 2
}
