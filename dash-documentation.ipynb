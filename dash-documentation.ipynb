{
 "cells": [
  {
   "cell_type": "markdown",
   "metadata": {},
   "source": [
    "# Documentation for Dash Visualizations \n",
    "- Documentation for static and interactive graphs using dash\n",
    "- Requires some familiarity with Plotly graph documentation"
   ]
  },
  {
   "cell_type": "markdown",
   "metadata": {},
   "source": [
    "### Plotly crash course\n",
    "#### Types of plotly graphs:\n",
    "- Scatter plots\n",
    "- Bubble charts\n",
    "- Bar plots\n",
    "- Line charts"
   ]
  },
  {
   "cell_type": "markdown",
   "metadata": {},
   "source": [
    "### Simple Scatter plot"
   ]
  },
  {
   "cell_type": "code",
   "execution_count": 5,
   "metadata": {},
   "outputs": [
    {
     "data": {
      "text/plain": [
       "'scatter.html'"
      ]
     },
     "execution_count": 5,
     "metadata": {},
     "output_type": "execute_result"
    }
   ],
   "source": [
    "import numpy as np\n",
    "import plotly.offline as pyo\n",
    "import plotly.graph_objs as go\n",
    "\n",
    "#Generate data\n",
    "np.random.seed(42)\n",
    "random_x = np.random.randint(1,101,100) #100 random integers\n",
    "random_y = np.random.randint(1,101,100) \n",
    "\n",
    "#Data is in form of a list, with go.Scatter having main arguments x-axis, y-axis and mode\n",
    "data = [go.Scatter(x=random_x,\n",
    "                   y =random_y,\n",
    "                   mode = 'markers', \n",
    "                  marker = dict(size = 12,\n",
    "                               color = \"rgb(51,204,153)\",\n",
    "                               symbol = \"pentagon\",\n",
    "                               line = dict(width = 2)\n",
    "                               ))] #this is our data\n",
    "#layout\n",
    "layout = go.Layout(title = \"Hello First plot\",\n",
    "                  xaxis = {\"title\":\"MY X AXIS\"},\n",
    "                  yaxis = dict(title = \"MY Y AXIS\"), #both approaches for passing a dictionary is ok, but plotly likes these dict calls\n",
    "                  hovermode = \"closest\")\n",
    "\n",
    "pyo.plot(data, filename = \"scatter.html\") #saves the plot\n",
    "\n",
    "fig = go.Figure(data=data,layout=layout)\n",
    "pyo.plot(fig,filename=\"scatter.html\")"
   ]
  },
  {
   "cell_type": "markdown",
   "metadata": {},
   "source": [
    "### Dash packages\n",
    "- import dash\n",
    "- import dash_core_components as dcc\n",
    "- import dash_html_components as html\n",
    "- from dash.dependencies import Input, Output\n",
    "- import plotly.graph_objs as go"
   ]
  },
  {
   "cell_type": "markdown",
   "metadata": {},
   "source": [
    "### Create dash app\n",
    "\n",
    "app = dash.Dash()"
   ]
  },
  {
   "cell_type": "markdown",
   "metadata": {},
   "source": [
    "### Create dash layout\n",
    "- Dash layout will have two components: HTML div component and Dash Core Component (DCC)\n",
    "- HTML.div() creates a division or component on the dash page that let's us insert dropdowns, boxes, graphs, etc.\n",
    "- HTML.div() takes a list of dash core components: documentation for different types of DCC can be found at https://dash.plot.ly/dash-core-components\n",
    "- Each dcc.*component*() takes arguments **id**, **options**, and **value**\n",
    "- **id** associates Dash Core Component with the @app.callback for updating the DCC in interactive graphs\n",
    "- **options** takes a list of options inserted by user for Core Components like Dropdown lists or Checkboxes \n",
    "    - options is a list of dictionaries, each with **label** and **value**\n",
    "        - **label** is what the user sees in the UI, **value** is the inherent value used to reference the component\n",
    "- **value** default value when nothing is selected by the user"
   ]
  },
  {
   "cell_type": "code",
   "execution_count": null,
   "metadata": {},
   "outputs": [],
   "source": [
    "app.layout = html.Div([ #html Div acts a s container for DCC\n",
    "                dcc.Dropdown(\n",
    "                    id=\"disease-type\", #connects core component with app callback\n",
    "                    options = [{\"label\":disease, \"value\":disease} for disease in df[cols[0]]], #options accepts list of inputs\n",
    "                     value = df[cols[0]].iloc[0] #default value of input (first column, first row of dataframe)\n",
    "                            ),                  #cols is list of column names of data frame\n",
    "    dcc.Graph(id=\"graphics\") #dash core component that contains actual graph\n",
    "            ])"
   ]
  },
  {
   "cell_type": "markdown",
   "metadata": {},
   "source": [
    "### Create function that updates graph\n",
    "- Function that accepts input as an argument from the user and updates the graph according to the input\n",
    "- It will return the data format for the type of graph desired\n",
    "    - Example: for Scatterplot, a dictionary with **data: [ ]** and **layout:** is returned\n",
    "- Inside function, data is wrangled into format which will be returned to the app.layout"
   ]
  },
  {
   "cell_type": "code",
   "execution_count": 2,
   "metadata": {},
   "outputs": [],
   "source": [
    "def update_graph(selected_disease): #function that accepts selected disease from user \n",
    "    filtered_df = df[df[cols[0]] == selected_disease] #filters df to contain only the row of the selected disease\n",
    "    nodes = filtered_df.loc[:,\"1\":\"12\"].values.tolist() #converts all values in columns of the filtered data frame to a list\n",
    "    nodes = nodes[0]\n",
    "    return { #returns data and layout and sends it to dash core component\n",
    "        \"data\": [\n",
    "                 {\"x\":list(cols)[2:14],\"y\":nodes,\"type\":\"bar\"},\n",
    "             ],\n",
    "        \"layout\": {\"title\":\"Barplots\"}\n",
    "    }"
   ]
  },
  {
   "cell_type": "markdown",
   "metadata": {},
   "source": [
    "### Create Dash Callback\n",
    "- Callback simply connects the figues specified in app.layout with with output and input\n",
    "- Input and output accepts two arguments;\n",
    "    - **id** and type of output/input we want\n",
    "    - Input or output is connected to either the user input or graph specified in app.layout by referencing their **id\n",
    "- Input has to be within a list"
   ]
  },
  {
   "cell_type": "code",
   "execution_count": null,
   "metadata": {},
   "outputs": [],
   "source": [
    "@app.callback(\n",
    "Output(\"graphics\",\"figure\"), #graphics is the id, figure is the type of output\n",
    "[Input(\"disease-type\",\"value\")]) #disease-type is the id, value is the default value"
   ]
  },
  {
   "cell_type": "markdown",
   "metadata": {},
   "source": [
    "## Run server"
   ]
  },
  {
   "cell_type": "code",
   "execution_count": null,
   "metadata": {},
   "outputs": [],
   "source": [
    "if __name__ == \"__main__\":\n",
    "    app.run_server()"
   ]
  }
 ],
 "metadata": {
  "kernelspec": {
   "display_name": "Python 3",
   "language": "python",
   "name": "python3"
  },
  "language_info": {
   "codemirror_mode": {
    "name": "ipython",
    "version": 3
   },
   "file_extension": ".py",
   "mimetype": "text/x-python",
   "name": "python",
   "nbconvert_exporter": "python",
   "pygments_lexer": "ipython3",
   "version": "3.7.3"
  }
 },
 "nbformat": 4,
 "nbformat_minor": 2
}
