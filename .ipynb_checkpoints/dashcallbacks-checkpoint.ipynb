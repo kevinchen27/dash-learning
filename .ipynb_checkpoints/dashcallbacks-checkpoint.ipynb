{
 "cells": [
  {
   "cell_type": "markdown",
   "metadata": {},
   "source": [
    "## Callbacks: connect dash core and HTML components\n",
    "### Create a function that will create output in dashboard\n",
    "- Decorate function with @app.callback decorator\n",
    "- Set an input and output to compnent id "
   ]
  },
  {
   "cell_type": "code",
   "execution_count": 1,
   "metadata": {},
   "outputs": [],
   "source": [
    "import dash\n",
    "import dash_core_components as dcc\n",
    "import dash_html_components as html\n",
    "from dash.dependencies import Input, Output"
   ]
  },
  {
   "cell_type": "code",
   "execution_count": 10,
   "metadata": {},
   "outputs": [
    {
     "name": "stdout",
     "output_type": "stream",
     "text": [
      " * Serving Flask app \"dash\" (lazy loading)\n",
      " * Environment: production\n",
      "   WARNING: This is a development server. Do not use it in a production deployment.\n",
      "   Use a production WSGI server instead.\n",
      " * Debug mode: off\n"
     ]
    },
    {
     "name": "stderr",
     "output_type": "stream",
     "text": [
      " * Running on http://127.0.0.1:8050/ (Press CTRL+C to quit)\n",
      "127.0.0.1 - - [27/Aug/2019 12:50:05] \"GET / HTTP/1.1\" 200 -\n",
      "127.0.0.1 - - [27/Aug/2019 12:50:07] \"GET /_dash-layout HTTP/1.1\" 200 -\n",
      "127.0.0.1 - - [27/Aug/2019 12:50:07] \"GET /_dash-dependencies HTTP/1.1\" 200 -\n",
      "127.0.0.1 - - [27/Aug/2019 12:50:07] \"POST /_dash-update-component HTTP/1.1\" 200 -\n",
      "127.0.0.1 - - [27/Aug/2019 12:50:07] \"GET /favicon.ico HTTP/1.1\" 200 -\n",
      "127.0.0.1 - - [27/Aug/2019 12:50:10] \"POST /_dash-update-component HTTP/1.1\" 200 -\n",
      "127.0.0.1 - - [27/Aug/2019 12:50:11] \"POST /_dash-update-component HTTP/1.1\" 200 -\n",
      "127.0.0.1 - - [27/Aug/2019 12:50:11] \"POST /_dash-update-component HTTP/1.1\" 200 -\n",
      "127.0.0.1 - - [27/Aug/2019 12:50:11] \"POST /_dash-update-component HTTP/1.1\" 200 -\n",
      "127.0.0.1 - - [27/Aug/2019 12:50:11] \"POST /_dash-update-component HTTP/1.1\" 200 -\n",
      "127.0.0.1 - - [27/Aug/2019 12:50:12] \"POST /_dash-update-component HTTP/1.1\" 200 -\n",
      "127.0.0.1 - - [27/Aug/2019 12:50:12] \"POST /_dash-update-component HTTP/1.1\" 200 -\n",
      "127.0.0.1 - - [27/Aug/2019 12:50:12] \"POST /_dash-update-component HTTP/1.1\" 200 -\n",
      "127.0.0.1 - - [27/Aug/2019 12:50:12] \"POST /_dash-update-component HTTP/1.1\" 200 -\n",
      "127.0.0.1 - - [27/Aug/2019 12:50:12] \"POST /_dash-update-component HTTP/1.1\" 200 -\n",
      "127.0.0.1 - - [27/Aug/2019 12:50:13] \"POST /_dash-update-component HTTP/1.1\" 200 -\n",
      "127.0.0.1 - - [27/Aug/2019 12:50:13] \"POST /_dash-update-component HTTP/1.1\" 200 -\n",
      "127.0.0.1 - - [27/Aug/2019 12:50:13] \"POST /_dash-update-component HTTP/1.1\" 200 -\n",
      "127.0.0.1 - - [27/Aug/2019 12:50:13] \"POST /_dash-update-component HTTP/1.1\" 200 -\n",
      "127.0.0.1 - - [27/Aug/2019 12:50:13] \"POST /_dash-update-component HTTP/1.1\" 200 -\n"
     ]
    }
   ],
   "source": [
    "app = dash.Dash()\n",
    "\n",
    "app.layout = html.Div([\n",
    "    dcc.Input(id = \"my-id\",value = \"Initial Text\",type = \"text\"), #core component, allows us to input text\n",
    "    html.Div(id = \"my-div\") #dcc.input is different from dash dependencies input\n",
    "])\n",
    "\n",
    "#we want to connect the dcc.Input to the output in the html.Div proceeding it\n",
    "#to connect text box input in core component inside of the div \n",
    "@app.callback(Output(component_id = \"my-div\", component_property = \"children\"),\n",
    "             [Input(component_id=\"my-id\",component_property=\"value\")]) #input is a list\n",
    "#we will have an output, and property we want to affect is children property\n",
    "\n",
    "def update_output_div(input_value):\n",
    "    return \"You entered: {}\".format(input_value) #takes input value and returns what you entered\n",
    "\n",
    "if __name__ == \"__main__\":\n",
    "    app.run_server()"
   ]
  },
  {
   "cell_type": "markdown",
   "metadata": {},
   "source": [
    "## Callbacks for Graphs"
   ]
  },
  {
   "cell_type": "code",
   "execution_count": 2,
   "metadata": {},
   "outputs": [
    {
     "ename": "FileNotFoundError",
     "evalue": "[Errno 2] File b'gapminderDataFiveYear.csv' does not exist: b'gapminderDataFiveYear.csv'",
     "output_type": "error",
     "traceback": [
      "\u001b[1;31m---------------------------------------------------------------------------\u001b[0m",
      "\u001b[1;31mFileNotFoundError\u001b[0m                         Traceback (most recent call last)",
      "\u001b[1;32m<ipython-input-2-835185a58edf>\u001b[0m in \u001b[0;36m<module>\u001b[1;34m\u001b[0m\n\u001b[0;32m      6\u001b[0m \u001b[1;32mimport\u001b[0m \u001b[0mpandas\u001b[0m \u001b[1;32mas\u001b[0m \u001b[0mpd\u001b[0m\u001b[1;33m\u001b[0m\u001b[1;33m\u001b[0m\u001b[0m\n\u001b[0;32m      7\u001b[0m \u001b[1;33m\u001b[0m\u001b[0m\n\u001b[1;32m----> 8\u001b[1;33m \u001b[0mdf\u001b[0m \u001b[1;33m=\u001b[0m \u001b[0mpd\u001b[0m\u001b[1;33m.\u001b[0m\u001b[0mread_csv\u001b[0m\u001b[1;33m(\u001b[0m\u001b[1;34m'gapminderDataFiveYear.csv'\u001b[0m\u001b[1;33m)\u001b[0m\u001b[1;33m\u001b[0m\u001b[1;33m\u001b[0m\u001b[0m\n\u001b[0m\u001b[0;32m      9\u001b[0m \u001b[0mdf\u001b[0m\u001b[1;33m.\u001b[0m\u001b[0mhead\u001b[0m\u001b[1;33m(\u001b[0m\u001b[1;33m)\u001b[0m\u001b[1;33m\u001b[0m\u001b[1;33m\u001b[0m\u001b[0m\n",
      "\u001b[1;32m~\\Anaconda3\\lib\\site-packages\\pandas\\io\\parsers.py\u001b[0m in \u001b[0;36mparser_f\u001b[1;34m(filepath_or_buffer, sep, delimiter, header, names, index_col, usecols, squeeze, prefix, mangle_dupe_cols, dtype, engine, converters, true_values, false_values, skipinitialspace, skiprows, skipfooter, nrows, na_values, keep_default_na, na_filter, verbose, skip_blank_lines, parse_dates, infer_datetime_format, keep_date_col, date_parser, dayfirst, iterator, chunksize, compression, thousands, decimal, lineterminator, quotechar, quoting, doublequote, escapechar, comment, encoding, dialect, tupleize_cols, error_bad_lines, warn_bad_lines, delim_whitespace, low_memory, memory_map, float_precision)\u001b[0m\n\u001b[0;32m    700\u001b[0m                     skip_blank_lines=skip_blank_lines)\n\u001b[0;32m    701\u001b[0m \u001b[1;33m\u001b[0m\u001b[0m\n\u001b[1;32m--> 702\u001b[1;33m         \u001b[1;32mreturn\u001b[0m \u001b[0m_read\u001b[0m\u001b[1;33m(\u001b[0m\u001b[0mfilepath_or_buffer\u001b[0m\u001b[1;33m,\u001b[0m \u001b[0mkwds\u001b[0m\u001b[1;33m)\u001b[0m\u001b[1;33m\u001b[0m\u001b[1;33m\u001b[0m\u001b[0m\n\u001b[0m\u001b[0;32m    703\u001b[0m \u001b[1;33m\u001b[0m\u001b[0m\n\u001b[0;32m    704\u001b[0m     \u001b[0mparser_f\u001b[0m\u001b[1;33m.\u001b[0m\u001b[0m__name__\u001b[0m \u001b[1;33m=\u001b[0m \u001b[0mname\u001b[0m\u001b[1;33m\u001b[0m\u001b[1;33m\u001b[0m\u001b[0m\n",
      "\u001b[1;32m~\\Anaconda3\\lib\\site-packages\\pandas\\io\\parsers.py\u001b[0m in \u001b[0;36m_read\u001b[1;34m(filepath_or_buffer, kwds)\u001b[0m\n\u001b[0;32m    427\u001b[0m \u001b[1;33m\u001b[0m\u001b[0m\n\u001b[0;32m    428\u001b[0m     \u001b[1;31m# Create the parser.\u001b[0m\u001b[1;33m\u001b[0m\u001b[1;33m\u001b[0m\u001b[1;33m\u001b[0m\u001b[0m\n\u001b[1;32m--> 429\u001b[1;33m     \u001b[0mparser\u001b[0m \u001b[1;33m=\u001b[0m \u001b[0mTextFileReader\u001b[0m\u001b[1;33m(\u001b[0m\u001b[0mfilepath_or_buffer\u001b[0m\u001b[1;33m,\u001b[0m \u001b[1;33m**\u001b[0m\u001b[0mkwds\u001b[0m\u001b[1;33m)\u001b[0m\u001b[1;33m\u001b[0m\u001b[1;33m\u001b[0m\u001b[0m\n\u001b[0m\u001b[0;32m    430\u001b[0m \u001b[1;33m\u001b[0m\u001b[0m\n\u001b[0;32m    431\u001b[0m     \u001b[1;32mif\u001b[0m \u001b[0mchunksize\u001b[0m \u001b[1;32mor\u001b[0m \u001b[0miterator\u001b[0m\u001b[1;33m:\u001b[0m\u001b[1;33m\u001b[0m\u001b[1;33m\u001b[0m\u001b[0m\n",
      "\u001b[1;32m~\\Anaconda3\\lib\\site-packages\\pandas\\io\\parsers.py\u001b[0m in \u001b[0;36m__init__\u001b[1;34m(self, f, engine, **kwds)\u001b[0m\n\u001b[0;32m    893\u001b[0m             \u001b[0mself\u001b[0m\u001b[1;33m.\u001b[0m\u001b[0moptions\u001b[0m\u001b[1;33m[\u001b[0m\u001b[1;34m'has_index_names'\u001b[0m\u001b[1;33m]\u001b[0m \u001b[1;33m=\u001b[0m \u001b[0mkwds\u001b[0m\u001b[1;33m[\u001b[0m\u001b[1;34m'has_index_names'\u001b[0m\u001b[1;33m]\u001b[0m\u001b[1;33m\u001b[0m\u001b[1;33m\u001b[0m\u001b[0m\n\u001b[0;32m    894\u001b[0m \u001b[1;33m\u001b[0m\u001b[0m\n\u001b[1;32m--> 895\u001b[1;33m         \u001b[0mself\u001b[0m\u001b[1;33m.\u001b[0m\u001b[0m_make_engine\u001b[0m\u001b[1;33m(\u001b[0m\u001b[0mself\u001b[0m\u001b[1;33m.\u001b[0m\u001b[0mengine\u001b[0m\u001b[1;33m)\u001b[0m\u001b[1;33m\u001b[0m\u001b[1;33m\u001b[0m\u001b[0m\n\u001b[0m\u001b[0;32m    896\u001b[0m \u001b[1;33m\u001b[0m\u001b[0m\n\u001b[0;32m    897\u001b[0m     \u001b[1;32mdef\u001b[0m \u001b[0mclose\u001b[0m\u001b[1;33m(\u001b[0m\u001b[0mself\u001b[0m\u001b[1;33m)\u001b[0m\u001b[1;33m:\u001b[0m\u001b[1;33m\u001b[0m\u001b[1;33m\u001b[0m\u001b[0m\n",
      "\u001b[1;32m~\\Anaconda3\\lib\\site-packages\\pandas\\io\\parsers.py\u001b[0m in \u001b[0;36m_make_engine\u001b[1;34m(self, engine)\u001b[0m\n\u001b[0;32m   1120\u001b[0m     \u001b[1;32mdef\u001b[0m \u001b[0m_make_engine\u001b[0m\u001b[1;33m(\u001b[0m\u001b[0mself\u001b[0m\u001b[1;33m,\u001b[0m \u001b[0mengine\u001b[0m\u001b[1;33m=\u001b[0m\u001b[1;34m'c'\u001b[0m\u001b[1;33m)\u001b[0m\u001b[1;33m:\u001b[0m\u001b[1;33m\u001b[0m\u001b[1;33m\u001b[0m\u001b[0m\n\u001b[0;32m   1121\u001b[0m         \u001b[1;32mif\u001b[0m \u001b[0mengine\u001b[0m \u001b[1;33m==\u001b[0m \u001b[1;34m'c'\u001b[0m\u001b[1;33m:\u001b[0m\u001b[1;33m\u001b[0m\u001b[1;33m\u001b[0m\u001b[0m\n\u001b[1;32m-> 1122\u001b[1;33m             \u001b[0mself\u001b[0m\u001b[1;33m.\u001b[0m\u001b[0m_engine\u001b[0m \u001b[1;33m=\u001b[0m \u001b[0mCParserWrapper\u001b[0m\u001b[1;33m(\u001b[0m\u001b[0mself\u001b[0m\u001b[1;33m.\u001b[0m\u001b[0mf\u001b[0m\u001b[1;33m,\u001b[0m \u001b[1;33m**\u001b[0m\u001b[0mself\u001b[0m\u001b[1;33m.\u001b[0m\u001b[0moptions\u001b[0m\u001b[1;33m)\u001b[0m\u001b[1;33m\u001b[0m\u001b[1;33m\u001b[0m\u001b[0m\n\u001b[0m\u001b[0;32m   1123\u001b[0m         \u001b[1;32melse\u001b[0m\u001b[1;33m:\u001b[0m\u001b[1;33m\u001b[0m\u001b[1;33m\u001b[0m\u001b[0m\n\u001b[0;32m   1124\u001b[0m             \u001b[1;32mif\u001b[0m \u001b[0mengine\u001b[0m \u001b[1;33m==\u001b[0m \u001b[1;34m'python'\u001b[0m\u001b[1;33m:\u001b[0m\u001b[1;33m\u001b[0m\u001b[1;33m\u001b[0m\u001b[0m\n",
      "\u001b[1;32m~\\Anaconda3\\lib\\site-packages\\pandas\\io\\parsers.py\u001b[0m in \u001b[0;36m__init__\u001b[1;34m(self, src, **kwds)\u001b[0m\n\u001b[0;32m   1851\u001b[0m         \u001b[0mkwds\u001b[0m\u001b[1;33m[\u001b[0m\u001b[1;34m'usecols'\u001b[0m\u001b[1;33m]\u001b[0m \u001b[1;33m=\u001b[0m \u001b[0mself\u001b[0m\u001b[1;33m.\u001b[0m\u001b[0musecols\u001b[0m\u001b[1;33m\u001b[0m\u001b[1;33m\u001b[0m\u001b[0m\n\u001b[0;32m   1852\u001b[0m \u001b[1;33m\u001b[0m\u001b[0m\n\u001b[1;32m-> 1853\u001b[1;33m         \u001b[0mself\u001b[0m\u001b[1;33m.\u001b[0m\u001b[0m_reader\u001b[0m \u001b[1;33m=\u001b[0m \u001b[0mparsers\u001b[0m\u001b[1;33m.\u001b[0m\u001b[0mTextReader\u001b[0m\u001b[1;33m(\u001b[0m\u001b[0msrc\u001b[0m\u001b[1;33m,\u001b[0m \u001b[1;33m**\u001b[0m\u001b[0mkwds\u001b[0m\u001b[1;33m)\u001b[0m\u001b[1;33m\u001b[0m\u001b[1;33m\u001b[0m\u001b[0m\n\u001b[0m\u001b[0;32m   1854\u001b[0m         \u001b[0mself\u001b[0m\u001b[1;33m.\u001b[0m\u001b[0munnamed_cols\u001b[0m \u001b[1;33m=\u001b[0m \u001b[0mself\u001b[0m\u001b[1;33m.\u001b[0m\u001b[0m_reader\u001b[0m\u001b[1;33m.\u001b[0m\u001b[0munnamed_cols\u001b[0m\u001b[1;33m\u001b[0m\u001b[1;33m\u001b[0m\u001b[0m\n\u001b[0;32m   1855\u001b[0m \u001b[1;33m\u001b[0m\u001b[0m\n",
      "\u001b[1;32mpandas/_libs/parsers.pyx\u001b[0m in \u001b[0;36mpandas._libs.parsers.TextReader.__cinit__\u001b[1;34m()\u001b[0m\n",
      "\u001b[1;32mpandas/_libs/parsers.pyx\u001b[0m in \u001b[0;36mpandas._libs.parsers.TextReader._setup_parser_source\u001b[1;34m()\u001b[0m\n",
      "\u001b[1;31mFileNotFoundError\u001b[0m: [Errno 2] File b'gapminderDataFiveYear.csv' does not exist: b'gapminderDataFiveYear.csv'"
     ]
    }
   ],
   "source": [
    "import dash\n",
    "import dash_core_components as dcc\n",
    "import dash_html_components as html\n",
    "from dash.dependencies import Input, Output\n",
    "import plotly.graph_objs as go\n",
    "import pandas as pd\n",
    "\n",
    "df = pd.read_csv('gapminderDataFiveYear.csv')\n",
    "df.head()"
   ]
  },
  {
   "cell_type": "code",
   "execution_count": 13,
   "metadata": {
    "scrolled": true
   },
   "outputs": [
    {
     "name": "stdout",
     "output_type": "stream",
     "text": [
      " * Serving Flask app \"dash\" (lazy loading)\n",
      " * Environment: production\n",
      "   WARNING: This is a development server. Do not use it in a production deployment.\n",
      "   Use a production WSGI server instead.\n",
      " * Debug mode: off\n"
     ]
    },
    {
     "name": "stderr",
     "output_type": "stream",
     "text": [
      " * Running on http://127.0.0.1:8050/ (Press CTRL+C to quit)\n",
      "127.0.0.1 - - [27/Aug/2019 13:02:16] \"GET / HTTP/1.1\" 200 -\n",
      "127.0.0.1 - - [27/Aug/2019 13:02:17] \"GET /_dash-layout HTTP/1.1\" 200 -\n",
      "127.0.0.1 - - [27/Aug/2019 13:02:17] \"GET /_dash-dependencies HTTP/1.1\" 200 -\n",
      "127.0.0.1 - - [27/Aug/2019 13:02:18] \"POST /_dash-update-component HTTP/1.1\" 200 -\n",
      "127.0.0.1 - - [27/Aug/2019 13:02:18] \"GET /favicon.ico HTTP/1.1\" 200 -\n",
      "127.0.0.1 - - [27/Aug/2019 13:02:25] \"POST /_dash-update-component HTTP/1.1\" 200 -\n",
      "127.0.0.1 - - [27/Aug/2019 13:02:26] \"POST /_dash-update-component HTTP/1.1\" 200 -\n",
      "127.0.0.1 - - [27/Aug/2019 13:02:28] \"POST /_dash-update-component HTTP/1.1\" 200 -\n"
     ]
    }
   ],
   "source": [
    "app = dash.Dash()\n",
    "\n",
    "year_options = [] #collect dropdown optionsb\n",
    "for year in df['year'].unique():\n",
    "    year_options.append({'label':\"hello\",'value':year}) #for every unique year, we're grabbing year options\n",
    "#append to the list a dictionary which has label and value\n",
    "#so there are basically multiple lines of code in options parameter\n",
    "    \n",
    "app.layout = html.Div([\n",
    "    dcc.Graph(id='graph'), \n",
    "    dcc.Dropdown(id='year-picker',\n",
    "                 options=year_options,\n",
    "                 value=df['year'].min()) #default value\n",
    "])\n",
    "\n",
    "#want to connect input from dropdown menu to output of the graph\n",
    "@app.callback(Output('graph', 'figure'),\n",
    "              [Input('year-picker', 'value')])\n",
    "\n",
    "#based off input year, we will filter df for that\n",
    "def update_figure(selected_year):\n",
    "    filtered_df = df[df['year'] == selected_year]\n",
    "    traces = []\n",
    "    #filter by continent\n",
    "    for continent_name in filtered_df['continent'].unique():\n",
    "        df_by_continent = filtered_df[filtered_df['continent'] == continent_name]\n",
    "        traces.append(go.Scatter(\n",
    "            x=df_by_continent['gdpPercap'],\n",
    "            y=df_by_continent['lifeExp'],\n",
    "            text=df_by_continent['country'],\n",
    "            mode='markers',\n",
    "            opacity=0.7,\n",
    "            marker={'size': 15},\n",
    "            name=continent_name\n",
    "        ))\n",
    "\n",
    "    return {\n",
    "        'data': traces,\n",
    "        'layout': go.Layout(\n",
    "            xaxis={'type': 'log', 'title': 'GDP Per Capita'},\n",
    "            yaxis={'title': 'Life Expectancy'},\n",
    "            hovermode='closest'\n",
    "        )\n",
    "    }\n",
    "\n",
    "if __name__ == '__main__':\n",
    "    app.run_server()\n",
    "    \n",
    "#read data\n",
    "#create app\n",
    "#create year options\n",
    "#app layout is a graph and a dropdown"
   ]
  },
  {
   "cell_type": "markdown",
   "metadata": {},
   "source": [
    "## Multiple Inputs"
   ]
  },
  {
   "cell_type": "code",
   "execution_count": null,
   "metadata": {},
   "outputs": [
    {
     "name": "stdout",
     "output_type": "stream",
     "text": [
      " * Serving Flask app \"dash\" (lazy loading)\n",
      " * Environment: production\n",
      "   WARNING: This is a development server. Do not use it in a production deployment.\n",
      "   Use a production WSGI server instead.\n",
      " * Debug mode: off\n"
     ]
    },
    {
     "name": "stderr",
     "output_type": "stream",
     "text": [
      " * Running on http://127.0.0.1:8050/ (Press CTRL+C to quit)\n",
      "127.0.0.1 - - [27/Aug/2019 14:06:26] \"GET / HTTP/1.1\" 200 -\n",
      "127.0.0.1 - - [27/Aug/2019 14:06:28] \"GET /_dash-layout HTTP/1.1\" 200 -\n",
      "127.0.0.1 - - [27/Aug/2019 14:06:28] \"GET /_dash-dependencies HTTP/1.1\" 200 -\n",
      "127.0.0.1 - - [27/Aug/2019 14:06:28] \"POST /_dash-update-component HTTP/1.1\" 200 -\n",
      "127.0.0.1 - - [27/Aug/2019 14:06:28] \"GET /favicon.ico HTTP/1.1\" 200 -\n"
     ]
    }
   ],
   "source": [
    "df = pd.read_csv(\"mpg.csv\")\n",
    "\n",
    "app=dash.Dash()\n",
    "features = df.columns #list of actual columns\n",
    "\n",
    "#put each dropdown into own separate div so can adjust its style easily\n",
    "app.layout = html.Div([\n",
    "                    html.Div([           #first dropdown\n",
    "                        dcc.Dropdown(id=\"xaxis\",\n",
    "                                    options=[{\"label\":i,\"value\":i} for i in features],\n",
    "                                    value=\"displacement\")\n",
    "                    ],style = {\"width\":\"48%\",\"display\":\"inline-block\"}), #width of div and inline block allows the two dropdowns to be next to each other   \n",
    "                    html.Div([           #second dropdown\n",
    "                        dcc.Dropdown(id=\"yaxis\",\n",
    "                                    options=[{\"label\":i,\"value\":i} for i in features],\n",
    "                                    value=\"mpg\")\n",
    "                    ], style = {\"width\":\"48%\",\"display\":\"inline-block\"}),\n",
    "    dcc.Graph(id=\"feature-graphic\") #our actual graph\n",
    "],style={\"padding\":10})\n",
    "\n",
    "@app.callback(\n",
    "    Output('feature-graphic', 'figure'),\n",
    "    [Input('xaxis', 'value'),\n",
    "     Input('yaxis', 'value')])\n",
    "\n",
    "def update_graph(xaxis_name, yaxis_name):\n",
    "    return {\n",
    "        'data': [go.Scatter(\n",
    "            x=df[xaxis_name],\n",
    "            y=df[yaxis_name],\n",
    "            text=df['name'], #if you over something, you will see the name of the particular car model\n",
    "            mode='markers',\n",
    "            marker={\n",
    "                'size': 15,\n",
    "                \n",
    "                'line': {'width': 0.5, 'color': 'white'}\n",
    "            }\n",
    "        )],\n",
    "        'layout': go.Layout(title=\"My Dashboard for MPG\",\n",
    "            xaxis={'title': xaxis_name.title()},\n",
    "            yaxis={'title': yaxis_name.title()},\n",
    "            margin={'l': 40, 'b': 40, 't': 10, 'r': 0},\n",
    "            hovermode='closest'\n",
    "        )\n",
    "    }\n",
    "\n",
    "if __name__ == '__main__':\n",
    "    app.run_server()\n",
    "    \n",
    "#do imports, create app, add styling\n",
    "#the function passes what the data we are referencing\n"
   ]
  },
  {
   "cell_type": "markdown",
   "metadata": {},
   "source": [
    "## Multiple Outputs with Multiple Inputs"
   ]
  },
  {
   "cell_type": "code",
   "execution_count": 3,
   "metadata": {},
   "outputs": [
    {
     "name": "stdout",
     "output_type": "stream",
     "text": [
      "[Scatter({\n",
      "    'marker': {'size': 15},\n",
      "    'mode': 'markers',\n",
      "    'name': 'Asia',\n",
      "    'opacity': 0.7,\n",
      "    'text': array(['Afghanistan', 'Bahrain', 'Bangladesh', 'Cambodia', 'China',\n",
      "                   'Hong Kong, China', 'India', 'Indonesia', 'Iran', 'Iraq', 'Israel',\n",
      "                   'Japan', 'Jordan', 'Korea, Dem. Rep.', 'Korea, Rep.', 'Kuwait',\n",
      "                   'Lebanon', 'Malaysia', 'Mongolia', 'Myanmar', 'Nepal', 'Oman',\n",
      "                   'Pakistan', 'Philippines', 'Saudi Arabia', 'Singapore', 'Sri Lanka',\n",
      "                   'Syria', 'Taiwan', 'Thailand', 'Vietnam', 'West Bank and Gaza',\n",
      "                   'Yemen, Rep.'], dtype=object),\n",
      "    'x': array([   820.8530296,  11635.79945  ,    661.6374577,    434.0383364,\n",
      "                   575.9870009,   3629.076457 ,    590.061996 ,    858.9002707,\n",
      "                  3290.257643 ,   6229.333562 ,   5385.278451 ,   4317.694365 ,\n",
      "                  1886.080591 ,   1571.134655 ,   1487.593537 , 113523.1329   ,\n",
      "                  6089.786934 ,   1810.066992 ,    912.6626085,    350.       ,\n",
      "                   597.9363558,   2242.746551 ,    747.0835292,   1547.944844 ,\n",
      "                  8157.591248 ,   2843.104409 ,   1072.546602 ,   2117.234893 ,\n",
      "                  1507.86129  ,    793.5774148,    676.2854478,   1827.067742 ,\n",
      "                   804.8304547]),\n",
      "    'y': array([30.332  , 53.832  , 39.348  , 41.366  , 50.54896, 64.75   , 40.249  ,\n",
      "                39.918  , 47.181  , 48.437  , 67.84   , 65.5    , 45.669  , 54.081  ,\n",
      "                52.681  , 58.033  , 59.489  , 52.102  , 45.248  , 41.905  , 37.686  ,\n",
      "                40.08   , 45.557  , 51.334  , 42.868  , 63.179  , 61.456  , 48.284  ,\n",
      "                62.4    , 53.63   , 42.887  , 45.671  , 33.97   ])\n",
      "}), Scatter({\n",
      "    'marker': {'size': 15},\n",
      "    'mode': 'markers',\n",
      "    'name': 'Europe',\n",
      "    'opacity': 0.7,\n",
      "    'text': array(['Albania', 'Austria', 'Belgium', 'Bosnia and Herzegovina', 'Bulgaria',\n",
      "                   'Croatia', 'Czech Republic', 'Denmark', 'Finland', 'France', 'Germany',\n",
      "                   'Greece', 'Hungary', 'Iceland', 'Ireland', 'Italy', 'Montenegro',\n",
      "                   'Netherlands', 'Norway', 'Poland', 'Portugal', 'Romania', 'Serbia',\n",
      "                   'Slovak Republic', 'Slovenia', 'Spain', 'Sweden', 'Switzerland',\n",
      "                   'Turkey', 'United Kingdom'], dtype=object),\n",
      "    'x': array([ 1942.284244,  8842.59803 ,  9714.960623,  1353.989176,  3008.670727,\n",
      "                 4338.231617,  8256.343918, 11099.65935 ,  7545.415386,  8662.834898,\n",
      "                10187.82665 ,  4916.299889,  6040.180011,  9244.001412,  5599.077872,\n",
      "                 6248.656232,  3682.259903, 11276.19344 , 11653.97304 ,  4734.253019,\n",
      "                 3774.571743,  3943.370225,  4981.090891,  6093.26298 ,  5862.276629,\n",
      "                 4564.80241 ,  9911.878226, 17909.48973 ,  2218.754257, 11283.17795 ]),\n",
      "    'y': array([59.28 , 67.48 , 69.24 , 58.45 , 66.61 , 64.77 , 69.03 , 71.81 , 67.49 ,\n",
      "                68.93 , 69.1  , 67.86 , 66.41 , 73.47 , 68.9  , 67.81 , 61.448, 72.99 ,\n",
      "                73.44 , 65.77 , 61.51 , 64.1  , 61.685, 67.45 , 67.85 , 66.66 , 72.49 ,\n",
      "                70.56 , 48.079, 70.42 ])\n",
      "}), Scatter({\n",
      "    'marker': {'size': 15},\n",
      "    'mode': 'markers',\n",
      "    'name': 'Africa',\n",
      "    'opacity': 0.7,\n",
      "    'text': array(['Algeria', 'Angola', 'Benin', 'Botswana', 'Burkina Faso', 'Burundi',\n",
      "                   'Cameroon', 'Central African Republic', 'Chad', 'Comoros',\n",
      "                   'Congo, Dem. Rep.', 'Congo, Rep.', \"Cote d'Ivoire\", 'Djibouti', 'Egypt',\n",
      "                   'Equatorial Guinea', 'Eritrea', 'Ethiopia', 'Gabon', 'Gambia', 'Ghana',\n",
      "                   'Guinea', 'Guinea-Bissau', 'Kenya', 'Lesotho', 'Liberia', 'Libya',\n",
      "                   'Madagascar', 'Malawi', 'Mali', 'Mauritania', 'Mauritius', 'Morocco',\n",
      "                   'Mozambique', 'Namibia', 'Niger', 'Nigeria', 'Reunion', 'Rwanda',\n",
      "                   'Sao Tome and Principe', 'Senegal', 'Sierra Leone', 'Somalia',\n",
      "                   'South Africa', 'Sudan', 'Swaziland', 'Tanzania', 'Togo', 'Tunisia',\n",
      "                   'Uganda', 'Zambia', 'Zimbabwe'], dtype=object),\n",
      "    'x': array([3013.976023 , 3827.940465 ,  959.6010805,  918.2325349,  617.1834648,\n",
      "                 379.5646281, 1313.048099 , 1190.844328 , 1308.495577 , 1211.148548 ,\n",
      "                 905.8602303, 2315.056572 , 1500.895925 , 2864.969076 , 1458.915272 ,\n",
      "                 426.0964081,  344.1618859,  378.9041632, 4976.198099 ,  520.9267111,\n",
      "                1043.561537 ,  576.2670245,  431.7904566,  944.4383152,  335.9971151,\n",
      "                 620.9699901, 3448.284395 , 1589.20275  ,  416.3698064,  490.3821867,\n",
      "                 846.1202613, 2034.037981 , 1642.002314 ,  495.5868333, 2621.448058 ,\n",
      "                 835.5234025, 1100.592563 , 2769.451844 ,  540.2893983,  860.7369026,\n",
      "                1567.653006 , 1004.484437 , 1258.147413 , 5487.104219 , 1770.337074 ,\n",
      "                1244.708364 ,  698.5356073,  925.9083202, 1395.232468 ,  774.3710692,\n",
      "                1311.956766 ,  518.7642681]),\n",
      "    'y': array([45.685, 31.999, 40.358, 49.618, 34.906, 40.533, 40.428, 37.464, 39.881,\n",
      "                42.46 , 40.652, 45.053, 42.469, 37.328, 44.444, 35.983, 38.047, 36.667,\n",
      "                38.999, 32.065, 44.779, 34.558, 33.489, 44.686, 45.047, 39.486, 45.289,\n",
      "                38.865, 37.207, 35.307, 42.338, 58.089, 45.423, 33.779, 45.226, 38.598,\n",
      "                37.802, 55.09 , 41.5  , 48.945, 39.329, 31.57 , 34.977, 47.985, 39.624,\n",
      "                43.424, 42.974, 41.208, 47.1  , 42.571, 44.077, 50.469])\n",
      "}), Scatter({\n",
      "    'marker': {'size': 15},\n",
      "    'mode': 'markers',\n",
      "    'name': 'Americas',\n",
      "    'opacity': 0.7,\n",
      "    'text': array(['Argentina', 'Bolivia', 'Brazil', 'Canada', 'Chile', 'Colombia',\n",
      "                   'Costa Rica', 'Cuba', 'Dominican Republic', 'Ecuador', 'El Salvador',\n",
      "                   'Guatemala', 'Haiti', 'Honduras', 'Jamaica', 'Mexico', 'Nicaragua',\n",
      "                   'Panama', 'Paraguay', 'Peru', 'Puerto Rico', 'Trinidad and Tobago',\n",
      "                   'United States', 'Uruguay', 'Venezuela'], dtype=object),\n",
      "    'x': array([ 6856.856212,  2127.686326,  2487.365989, 12489.95006 ,  4315.622723,\n",
      "                 2323.805581,  2990.010802,  6092.174359,  1544.402995,  3780.546651,\n",
      "                 3421.523218,  2617.155967,  1726.887882,  2220.487682,  4756.525781,\n",
      "                 4131.546641,  3457.415947,  2961.800905,  2046.154706,  4245.256698,\n",
      "                 3907.156189,  4100.3934  , 14847.12712 ,  6150.772969,  9802.466526]),\n",
      "    'y': array([64.399, 41.89 , 53.285, 69.96 , 56.074, 55.118, 60.026, 62.325, 49.828,\n",
      "                51.356, 48.57 , 44.142, 40.696, 44.665, 62.61 , 55.19 , 45.432, 59.201,\n",
      "                63.196, 46.263, 68.54 , 61.8  , 69.49 , 67.044, 57.907])\n",
      "}), Scatter({\n",
      "    'marker': {'size': 15},\n",
      "    'mode': 'markers',\n",
      "    'name': 'Oceania',\n",
      "    'opacity': 0.7,\n",
      "    'text': array(['Australia', 'New Zealand'], dtype=object),\n",
      "    'x': array([10949.64959, 12247.39532]),\n",
      "    'y': array([70.33, 70.26])\n",
      "})]\n"
     ]
    }
   ],
   "source": [
    "filtered_df = df[df['year'] ==1957]\n",
    "\n",
    "traces = []\n",
    "    #filter by continent\n",
    "for continent_name in filtered_df['continent'].unique():\n",
    "    df_by_continent = filtered_df[filtered_df['continent'] == continent_name]\n",
    "    traces.append(go.Scatter(\n",
    "            x=df_by_continent['gdpPercap'],\n",
    "            y=df_by_continent['lifeExp'],\n",
    "            text=df_by_continent['country'],\n",
    "            mode='markers',\n",
    "            opacity=0.7,\n",
    "            marker={'size': 15},\n",
    "            name=continent_name\n",
    "        ))\n",
    "    \n",
    "print(traces)"
   ]
  }
 ],
 "metadata": {
  "kernelspec": {
   "display_name": "Python 3",
   "language": "python",
   "name": "python3"
  },
  "language_info": {
   "codemirror_mode": {
    "name": "ipython",
    "version": 3
   },
   "file_extension": ".py",
   "mimetype": "text/x-python",
   "name": "python",
   "nbconvert_exporter": "python",
   "pygments_lexer": "ipython3",
   "version": "3.7.3"
  }
 },
 "nbformat": 4,
 "nbformat_minor": 2
}
