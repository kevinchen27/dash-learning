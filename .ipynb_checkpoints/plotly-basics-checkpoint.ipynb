{
 "cells": [
  {
   "cell_type": "markdown",
   "metadata": {},
   "source": [
    "# Using plotly\n",
    "## Scatterplots"
   ]
  },
  {
   "cell_type": "code",
   "execution_count": 1,
   "metadata": {},
   "outputs": [],
   "source": [
    "#We can interpret some form of correlation"
   ]
  },
  {
   "cell_type": "code",
   "execution_count": 1,
   "metadata": {},
   "outputs": [],
   "source": [
    "import numpy as np\n",
    "import plotly.offline as pyo\n",
    "import plotly.graph_objs as go"
   ]
  },
  {
   "cell_type": "code",
   "execution_count": 3,
   "metadata": {},
   "outputs": [],
   "source": [
    "np.random.seed(42)\n",
    "random_x = np.random.randint(1,101,100) #100 random integers\n",
    "random_y = np.random.randint(1,101,100) "
   ]
  },
  {
   "cell_type": "code",
   "execution_count": 14,
   "metadata": {},
   "outputs": [
    {
     "data": {
      "text/plain": [
       "'scatter.html'"
      ]
     },
     "execution_count": 14,
     "metadata": {},
     "output_type": "execute_result"
    }
   ],
   "source": [
    "#plotly syntax: plot in a variable called data and is passed into a plot call\n",
    "#so plot inside of a list\n",
    "data = [go.Scatter(x=random_x,\n",
    "                   y =random_y,\n",
    "                   mode = 'markers', \n",
    "                  marker = dict(size = 12,\n",
    "                               color = \"rgb(51,204,153)\",\n",
    "                               symbol = \"pentagon\",\n",
    "                               line = dict(width = 2)\n",
    "                               ))] #this is our data\n",
    "#layout\n",
    "layout = go.Layout(title = \"Hello First plot\",\n",
    "                  xaxis = {\"title\":\"MY X AXIS\"},\n",
    "                  yaxis = dict(title = \"MY Y AXIS\"), #both approaches for passing a dictionary is ok, but plotly likes these dict calls\n",
    "                  hovermode = \"closest\")\n",
    "\n",
    "pyo.plot(data, filename = \"scatter.html\") #saves the plot\n",
    "\n",
    "fig = go.Figure(data=data,layout=layout)\n",
    "pyo.plot(fig,filename=\"scatter.html\")"
   ]
  },
  {
   "cell_type": "markdown",
   "metadata": {},
   "source": [
    "## Line Charts\n",
    "- Displays series of data points called markers joined by line segments\n",
    "- x-value is ordered in some way"
   ]
  },
  {
   "cell_type": "code",
   "execution_count": 24,
   "metadata": {},
   "outputs": [
    {
     "data": {
      "text/plain": [
       "'temp-plot.html'"
      ]
     },
     "execution_count": 24,
     "metadata": {},
     "output_type": "execute_result"
    }
   ],
   "source": [
    "np.random.seed(56)\n",
    "x_values=np.linspace(0,1,100)\n",
    "y_values = np.random.randn(100)\n",
    "\n",
    "trace0 = go.Scatter(x=x_values,y=y_values+5,mode = \"markers\",\n",
    "                  name = \"markers\")\n",
    "trace1 = go.Scatter(x=x_values,y=y_values,mode = \"lines\",name=\"mylines\")\n",
    "\n",
    "trace2 = go.Scatter(x=x_values,y=y_values-5,mode = \"lines+markers\",name=\"myfavorite\")\n",
    "\n",
    "data = [trace0,trace1,trace2]\n",
    "\n",
    "layout = go.Layout(title = \"Line Charts\")\n",
    "\n",
    "fig = go.Figure(data=data,layout=layout)\n",
    "\n",
    "pyo.plot(fig)"
   ]
  },
  {
   "cell_type": "markdown",
   "metadata": {},
   "source": [
    "## Using real data set with pandas"
   ]
  },
  {
   "cell_type": "code",
   "execution_count": 2,
   "metadata": {},
   "outputs": [],
   "source": [
    "import pandas as pd"
   ]
  },
  {
   "cell_type": "code",
   "execution_count": 3,
   "metadata": {},
   "outputs": [
    {
     "data": {
      "text/html": [
       "<div>\n",
       "<style scoped>\n",
       "    .dataframe tbody tr th:only-of-type {\n",
       "        vertical-align: middle;\n",
       "    }\n",
       "\n",
       "    .dataframe tbody tr th {\n",
       "        vertical-align: top;\n",
       "    }\n",
       "\n",
       "    .dataframe thead th {\n",
       "        text-align: right;\n",
       "    }\n",
       "</style>\n",
       "<table border=\"1\" class=\"dataframe\">\n",
       "  <thead>\n",
       "    <tr style=\"text-align: right;\">\n",
       "      <th></th>\n",
       "      <th>SUMLEV</th>\n",
       "      <th>REGION</th>\n",
       "      <th>DIVISION</th>\n",
       "      <th>STATE</th>\n",
       "      <th>CENSUS2010POP</th>\n",
       "      <th>ESTIMATESBASE2010</th>\n",
       "      <th>POPESTIMATE2010</th>\n",
       "      <th>POPESTIMATE2011</th>\n",
       "      <th>POPESTIMATE2012</th>\n",
       "      <th>POPESTIMATE2013</th>\n",
       "      <th>...</th>\n",
       "      <th>RDOMESTICMIG2015</th>\n",
       "      <th>RDOMESTICMIG2016</th>\n",
       "      <th>RDOMESTICMIG2017</th>\n",
       "      <th>RNETMIG2011</th>\n",
       "      <th>RNETMIG2012</th>\n",
       "      <th>RNETMIG2013</th>\n",
       "      <th>RNETMIG2014</th>\n",
       "      <th>RNETMIG2015</th>\n",
       "      <th>RNETMIG2016</th>\n",
       "      <th>RNETMIG2017</th>\n",
       "    </tr>\n",
       "    <tr>\n",
       "      <th>NAME</th>\n",
       "      <th></th>\n",
       "      <th></th>\n",
       "      <th></th>\n",
       "      <th></th>\n",
       "      <th></th>\n",
       "      <th></th>\n",
       "      <th></th>\n",
       "      <th></th>\n",
       "      <th></th>\n",
       "      <th></th>\n",
       "      <th></th>\n",
       "      <th></th>\n",
       "      <th></th>\n",
       "      <th></th>\n",
       "      <th></th>\n",
       "      <th></th>\n",
       "      <th></th>\n",
       "      <th></th>\n",
       "      <th></th>\n",
       "      <th></th>\n",
       "      <th></th>\n",
       "    </tr>\n",
       "  </thead>\n",
       "  <tbody>\n",
       "    <tr>\n",
       "      <th>Connecticut</th>\n",
       "      <td>40.0</td>\n",
       "      <td>1</td>\n",
       "      <td>1</td>\n",
       "      <td>9.0</td>\n",
       "      <td>3574097.0</td>\n",
       "      <td>3574114.0</td>\n",
       "      <td>3580171.0</td>\n",
       "      <td>3591927.0</td>\n",
       "      <td>3597705.0</td>\n",
       "      <td>3602470.0</td>\n",
       "      <td>...</td>\n",
       "      <td>-8.376089</td>\n",
       "      <td>-8.106331</td>\n",
       "      <td>-6.206914</td>\n",
       "      <td>0.993851</td>\n",
       "      <td>-0.542726</td>\n",
       "      <td>-0.420268</td>\n",
       "      <td>-2.479362</td>\n",
       "      <td>-3.464252</td>\n",
       "      <td>-3.112421</td>\n",
       "      <td>-1.257548</td>\n",
       "    </tr>\n",
       "    <tr>\n",
       "      <th>Maine</th>\n",
       "      <td>40.0</td>\n",
       "      <td>1</td>\n",
       "      <td>1</td>\n",
       "      <td>23.0</td>\n",
       "      <td>1328361.0</td>\n",
       "      <td>1328362.0</td>\n",
       "      <td>1327568.0</td>\n",
       "      <td>1327968.0</td>\n",
       "      <td>1328101.0</td>\n",
       "      <td>1327975.0</td>\n",
       "      <td>...</td>\n",
       "      <td>-0.781424</td>\n",
       "      <td>1.807361</td>\n",
       "      <td>4.032798</td>\n",
       "      <td>0.685361</td>\n",
       "      <td>0.178459</td>\n",
       "      <td>0.392308</td>\n",
       "      <td>1.301528</td>\n",
       "      <td>0.389959</td>\n",
       "      <td>3.000731</td>\n",
       "      <td>5.216532</td>\n",
       "    </tr>\n",
       "    <tr>\n",
       "      <th>Massachusetts</th>\n",
       "      <td>40.0</td>\n",
       "      <td>1</td>\n",
       "      <td>1</td>\n",
       "      <td>25.0</td>\n",
       "      <td>6547629.0</td>\n",
       "      <td>6547808.0</td>\n",
       "      <td>6564943.0</td>\n",
       "      <td>6612178.0</td>\n",
       "      <td>6659627.0</td>\n",
       "      <td>6711138.0</td>\n",
       "      <td>...</td>\n",
       "      <td>-3.270088</td>\n",
       "      <td>-4.423353</td>\n",
       "      <td>-3.374712</td>\n",
       "      <td>4.364383</td>\n",
       "      <td>4.266338</td>\n",
       "      <td>5.211370</td>\n",
       "      <td>4.538697</td>\n",
       "      <td>3.276287</td>\n",
       "      <td>2.261905</td>\n",
       "      <td>3.246090</td>\n",
       "    </tr>\n",
       "    <tr>\n",
       "      <th>New Hampshire</th>\n",
       "      <td>40.0</td>\n",
       "      <td>1</td>\n",
       "      <td>1</td>\n",
       "      <td>33.0</td>\n",
       "      <td>1316470.0</td>\n",
       "      <td>1316460.0</td>\n",
       "      <td>1316700.0</td>\n",
       "      <td>1318345.0</td>\n",
       "      <td>1320923.0</td>\n",
       "      <td>1322622.0</td>\n",
       "      <td>...</td>\n",
       "      <td>-0.850002</td>\n",
       "      <td>1.333509</td>\n",
       "      <td>3.500622</td>\n",
       "      <td>-0.403029</td>\n",
       "      <td>0.632751</td>\n",
       "      <td>0.061281</td>\n",
       "      <td>3.793602</td>\n",
       "      <td>0.852258</td>\n",
       "      <td>3.037729</td>\n",
       "      <td>5.170643</td>\n",
       "    </tr>\n",
       "    <tr>\n",
       "      <th>Rhode Island</th>\n",
       "      <td>40.0</td>\n",
       "      <td>1</td>\n",
       "      <td>1</td>\n",
       "      <td>44.0</td>\n",
       "      <td>1052567.0</td>\n",
       "      <td>1052945.0</td>\n",
       "      <td>1053169.0</td>\n",
       "      <td>1052154.0</td>\n",
       "      <td>1052761.0</td>\n",
       "      <td>1052784.0</td>\n",
       "      <td>...</td>\n",
       "      <td>-4.218510</td>\n",
       "      <td>-4.093718</td>\n",
       "      <td>-3.640649</td>\n",
       "      <td>-2.170688</td>\n",
       "      <td>-0.991964</td>\n",
       "      <td>-1.139847</td>\n",
       "      <td>1.029624</td>\n",
       "      <td>0.368598</td>\n",
       "      <td>0.526146</td>\n",
       "      <td>0.891742</td>\n",
       "    </tr>\n",
       "    <tr>\n",
       "      <th>Vermont</th>\n",
       "      <td>40.0</td>\n",
       "      <td>1</td>\n",
       "      <td>1</td>\n",
       "      <td>50.0</td>\n",
       "      <td>625741.0</td>\n",
       "      <td>625741.0</td>\n",
       "      <td>625842.0</td>\n",
       "      <td>626210.0</td>\n",
       "      <td>625606.0</td>\n",
       "      <td>626044.0</td>\n",
       "      <td>...</td>\n",
       "      <td>-3.415672</td>\n",
       "      <td>-3.615938</td>\n",
       "      <td>-1.472321</td>\n",
       "      <td>-0.333852</td>\n",
       "      <td>-1.915617</td>\n",
       "      <td>0.131027</td>\n",
       "      <td>-1.313404</td>\n",
       "      <td>-1.932614</td>\n",
       "      <td>-2.115708</td>\n",
       "      <td>0.024058</td>\n",
       "    </tr>\n",
       "  </tbody>\n",
       "</table>\n",
       "<p>6 rows × 120 columns</p>\n",
       "</div>"
      ],
      "text/plain": [
       "               SUMLEV REGION DIVISION  STATE  CENSUS2010POP  \\\n",
       "NAME                                                          \n",
       "Connecticut      40.0      1        1    9.0      3574097.0   \n",
       "Maine            40.0      1        1   23.0      1328361.0   \n",
       "Massachusetts    40.0      1        1   25.0      6547629.0   \n",
       "New Hampshire    40.0      1        1   33.0      1316470.0   \n",
       "Rhode Island     40.0      1        1   44.0      1052567.0   \n",
       "Vermont          40.0      1        1   50.0       625741.0   \n",
       "\n",
       "               ESTIMATESBASE2010  POPESTIMATE2010  POPESTIMATE2011  \\\n",
       "NAME                                                                 \n",
       "Connecticut            3574114.0        3580171.0        3591927.0   \n",
       "Maine                  1328362.0        1327568.0        1327968.0   \n",
       "Massachusetts          6547808.0        6564943.0        6612178.0   \n",
       "New Hampshire          1316460.0        1316700.0        1318345.0   \n",
       "Rhode Island           1052945.0        1053169.0        1052154.0   \n",
       "Vermont                 625741.0         625842.0         626210.0   \n",
       "\n",
       "               POPESTIMATE2012  POPESTIMATE2013  ...  RDOMESTICMIG2015  \\\n",
       "NAME                                             ...                     \n",
       "Connecticut          3597705.0        3602470.0  ...         -8.376089   \n",
       "Maine                1328101.0        1327975.0  ...         -0.781424   \n",
       "Massachusetts        6659627.0        6711138.0  ...         -3.270088   \n",
       "New Hampshire        1320923.0        1322622.0  ...         -0.850002   \n",
       "Rhode Island         1052761.0        1052784.0  ...         -4.218510   \n",
       "Vermont               625606.0         626044.0  ...         -3.415672   \n",
       "\n",
       "               RDOMESTICMIG2016  RDOMESTICMIG2017  RNETMIG2011  RNETMIG2012  \\\n",
       "NAME                                                                          \n",
       "Connecticut           -8.106331         -6.206914     0.993851    -0.542726   \n",
       "Maine                  1.807361          4.032798     0.685361     0.178459   \n",
       "Massachusetts         -4.423353         -3.374712     4.364383     4.266338   \n",
       "New Hampshire          1.333509          3.500622    -0.403029     0.632751   \n",
       "Rhode Island          -4.093718         -3.640649    -2.170688    -0.991964   \n",
       "Vermont               -3.615938         -1.472321    -0.333852    -1.915617   \n",
       "\n",
       "               RNETMIG2013  RNETMIG2014  RNETMIG2015  RNETMIG2016  RNETMIG2017  \n",
       "NAME                                                                            \n",
       "Connecticut      -0.420268    -2.479362    -3.464252    -3.112421    -1.257548  \n",
       "Maine             0.392308     1.301528     0.389959     3.000731     5.216532  \n",
       "Massachusetts     5.211370     4.538697     3.276287     2.261905     3.246090  \n",
       "New Hampshire     0.061281     3.793602     0.852258     3.037729     5.170643  \n",
       "Rhode Island     -1.139847     1.029624     0.368598     0.526146     0.891742  \n",
       "Vermont           0.131027    -1.313404    -1.932614    -2.115708     0.024058  \n",
       "\n",
       "[6 rows x 120 columns]"
      ]
     },
     "execution_count": 3,
     "metadata": {},
     "output_type": "execute_result"
    }
   ],
   "source": [
    "df = pd.read_csv(\"nst-est2017-alldata.csv\")\n",
    "\n",
    "df2 = df[df[\"DIVISION\"] == \"1\"]#only want those obs with a 1 in the DIVISON col\n",
    "df2.set_index(\"NAME\", inplace=True) #grabs col in df and sets that as the index i.e row name\n",
    "df2"
   ]
  },
  {
   "cell_type": "code",
   "execution_count": 64,
   "metadata": {},
   "outputs": [
    {
     "data": {
      "text/plain": [
       "'temp-plot.html'"
      ]
     },
     "execution_count": 64,
     "metadata": {},
     "output_type": "execute_result"
    }
   ],
   "source": [
    "#If want only population columns\n",
    "#list comprehension\n",
    "list_of_pop_col = [col for col in df2.columns if col.startswith(\"POP\")]\n",
    "\n",
    "#df2.columns gives list of col names, then wer're syaig for col in df2.columns, we seect them nly if it starts with col.startswith(\"POP\")\n",
    "#so it will keep col for every col in df2.cols that starts with POP\n",
    "df2 = df2[list_of_pop_col]\n",
    "\n",
    "data = [go.Scatter(x=df2.columns,y=df2.loc[name],mode=\"lines\",name=name) for name in df2.index] \n",
    "#build a scatterplot for every state in df2 index''#set x = columns, y .loc grabs the number value - so for every name eg. Connecticut grab the value\n",
    "pyo.plot(data)"
   ]
  },
  {
   "cell_type": "markdown",
   "metadata": {},
   "source": [
    "## Exercise"
   ]
  },
  {
   "cell_type": "code",
   "execution_count": 7,
   "metadata": {},
   "outputs": [
    {
     "name": "stdout",
     "output_type": "stream",
     "text": [
      "   LST_DATE      DAY LST_TIME  T_HR_AVG\n",
      "0  20100601  TUESDAY     0:00      25.2\n",
      "1  20100601  TUESDAY     1:00      24.1\n",
      "2  20100601  TUESDAY     2:00      24.4\n",
      "3  20100601  TUESDAY     3:00      24.9\n",
      "4  20100601  TUESDAY     4:00      22.8\n"
     ]
    },
    {
     "data": {
      "text/plain": [
       "'temp-plot.html'"
      ]
     },
     "execution_count": 7,
     "metadata": {},
     "output_type": "execute_result"
    }
   ],
   "source": [
    "#Use file to make line chart that plots seven days worth of temp data on a graph\n",
    "df = pd.read_csv(\"2010YumaAZ.csv\")\n",
    "days = list(df[\"DAY\"].unique())\n",
    "print(df.head())\n",
    "\n",
    "data = []\n",
    "for day in days:\n",
    "    #for y axis temp hr avg, we want the data to be according to corresponding day\n",
    "    #if we dont specify day, then it will take temp avg for all days and graph will be wrong\n",
    "    #bc each line represents a separate day\n",
    "    trace = go.Scatter(x=df[\"LST_TIME\"],\n",
    "                       y=df[df[\"DAY\"]==day][\"T_HR_AVG\"]\n",
    "                       ,mode=\"lines\"\n",
    "                       ,name = day)\n",
    "    data.append(trace)\n",
    "\n",
    "layout = go.Layout(title=\"Daily temp avg\")\n",
    "    \n",
    "fig = go.Figure(data=data,layout=layout)\n",
    "pyo.plot(fig)"
   ]
  },
  {
   "cell_type": "markdown",
   "metadata": {},
   "source": [
    "## Exercise"
   ]
  },
  {
   "cell_type": "code",
   "execution_count": 79,
   "metadata": {},
   "outputs": [],
   "source": [
    "data = [{\"x\":df[\"LST_TIME\"],\n",
    "        \"y\": df[df[\"DAY\"] == day][\"T_HR_AVG\"],\n",
    "         \"name\":day\n",
    "        } for day in df[\"DAY\"].unique()]\n",
    "\n",
    "layout = go.Layout(title = \"Daily temp avgs\")"
   ]
  },
  {
   "cell_type": "markdown",
   "metadata": {},
   "source": [
    "## Bar Charts\n",
    "- Stacked, normal, nested bar charts,  "
   ]
  },
  {
   "cell_type": "code",
   "execution_count": 96,
   "metadata": {},
   "outputs": [
    {
     "data": {
      "text/html": [
       "<div>\n",
       "<style scoped>\n",
       "    .dataframe tbody tr th:only-of-type {\n",
       "        vertical-align: middle;\n",
       "    }\n",
       "\n",
       "    .dataframe tbody tr th {\n",
       "        vertical-align: top;\n",
       "    }\n",
       "\n",
       "    .dataframe thead th {\n",
       "        text-align: right;\n",
       "    }\n",
       "</style>\n",
       "<table border=\"1\" class=\"dataframe\">\n",
       "  <thead>\n",
       "    <tr style=\"text-align: right;\">\n",
       "      <th></th>\n",
       "      <th>Rank</th>\n",
       "      <th>NOC</th>\n",
       "      <th>Gold</th>\n",
       "      <th>Silver</th>\n",
       "      <th>Bronze</th>\n",
       "      <th>Total</th>\n",
       "    </tr>\n",
       "  </thead>\n",
       "  <tbody>\n",
       "    <tr>\n",
       "      <th>0</th>\n",
       "      <td>1</td>\n",
       "      <td>Norway</td>\n",
       "      <td>14</td>\n",
       "      <td>14</td>\n",
       "      <td>11</td>\n",
       "      <td>39</td>\n",
       "    </tr>\n",
       "    <tr>\n",
       "      <th>1</th>\n",
       "      <td>2</td>\n",
       "      <td>Germany</td>\n",
       "      <td>14</td>\n",
       "      <td>10</td>\n",
       "      <td>7</td>\n",
       "      <td>31</td>\n",
       "    </tr>\n",
       "    <tr>\n",
       "      <th>2</th>\n",
       "      <td>3</td>\n",
       "      <td>Canada</td>\n",
       "      <td>11</td>\n",
       "      <td>8</td>\n",
       "      <td>10</td>\n",
       "      <td>29</td>\n",
       "    </tr>\n",
       "    <tr>\n",
       "      <th>3</th>\n",
       "      <td>4</td>\n",
       "      <td>United States</td>\n",
       "      <td>9</td>\n",
       "      <td>8</td>\n",
       "      <td>6</td>\n",
       "      <td>23</td>\n",
       "    </tr>\n",
       "    <tr>\n",
       "      <th>4</th>\n",
       "      <td>5</td>\n",
       "      <td>Netherlands</td>\n",
       "      <td>8</td>\n",
       "      <td>6</td>\n",
       "      <td>6</td>\n",
       "      <td>20</td>\n",
       "    </tr>\n",
       "    <tr>\n",
       "      <th>5</th>\n",
       "      <td>6</td>\n",
       "      <td>Sweden</td>\n",
       "      <td>7</td>\n",
       "      <td>6</td>\n",
       "      <td>1</td>\n",
       "      <td>14</td>\n",
       "    </tr>\n",
       "    <tr>\n",
       "      <th>6</th>\n",
       "      <td>7</td>\n",
       "      <td>Republic of Korea</td>\n",
       "      <td>5</td>\n",
       "      <td>8</td>\n",
       "      <td>4</td>\n",
       "      <td>17</td>\n",
       "    </tr>\n",
       "    <tr>\n",
       "      <th>7</th>\n",
       "      <td>8</td>\n",
       "      <td>Switzerland</td>\n",
       "      <td>5</td>\n",
       "      <td>6</td>\n",
       "      <td>4</td>\n",
       "      <td>15</td>\n",
       "    </tr>\n",
       "    <tr>\n",
       "      <th>8</th>\n",
       "      <td>9</td>\n",
       "      <td>France</td>\n",
       "      <td>5</td>\n",
       "      <td>4</td>\n",
       "      <td>6</td>\n",
       "      <td>15</td>\n",
       "    </tr>\n",
       "    <tr>\n",
       "      <th>9</th>\n",
       "      <td>10</td>\n",
       "      <td>Austria</td>\n",
       "      <td>5</td>\n",
       "      <td>3</td>\n",
       "      <td>6</td>\n",
       "      <td>14</td>\n",
       "    </tr>\n",
       "    <tr>\n",
       "      <th>10</th>\n",
       "      <td>11</td>\n",
       "      <td>Japan</td>\n",
       "      <td>4</td>\n",
       "      <td>5</td>\n",
       "      <td>4</td>\n",
       "      <td>13</td>\n",
       "    </tr>\n",
       "    <tr>\n",
       "      <th>11</th>\n",
       "      <td>12</td>\n",
       "      <td>Italy</td>\n",
       "      <td>3</td>\n",
       "      <td>2</td>\n",
       "      <td>5</td>\n",
       "      <td>10</td>\n",
       "    </tr>\n",
       "    <tr>\n",
       "      <th>12</th>\n",
       "      <td>13</td>\n",
       "      <td>OAR</td>\n",
       "      <td>2</td>\n",
       "      <td>6</td>\n",
       "      <td>9</td>\n",
       "      <td>17</td>\n",
       "    </tr>\n",
       "    <tr>\n",
       "      <th>13</th>\n",
       "      <td>14</td>\n",
       "      <td>Czech Republic</td>\n",
       "      <td>2</td>\n",
       "      <td>2</td>\n",
       "      <td>3</td>\n",
       "      <td>7</td>\n",
       "    </tr>\n",
       "    <tr>\n",
       "      <th>14</th>\n",
       "      <td>15</td>\n",
       "      <td>Belarus</td>\n",
       "      <td>2</td>\n",
       "      <td>1</td>\n",
       "      <td>0</td>\n",
       "      <td>3</td>\n",
       "    </tr>\n",
       "    <tr>\n",
       "      <th>15</th>\n",
       "      <td>16</td>\n",
       "      <td>China</td>\n",
       "      <td>1</td>\n",
       "      <td>6</td>\n",
       "      <td>2</td>\n",
       "      <td>9</td>\n",
       "    </tr>\n",
       "    <tr>\n",
       "      <th>16</th>\n",
       "      <td>17</td>\n",
       "      <td>Slovakia</td>\n",
       "      <td>1</td>\n",
       "      <td>2</td>\n",
       "      <td>0</td>\n",
       "      <td>3</td>\n",
       "    </tr>\n",
       "    <tr>\n",
       "      <th>17</th>\n",
       "      <td>18</td>\n",
       "      <td>Finland</td>\n",
       "      <td>1</td>\n",
       "      <td>1</td>\n",
       "      <td>4</td>\n",
       "      <td>6</td>\n",
       "    </tr>\n",
       "    <tr>\n",
       "      <th>18</th>\n",
       "      <td>19</td>\n",
       "      <td>Great Britain</td>\n",
       "      <td>1</td>\n",
       "      <td>0</td>\n",
       "      <td>4</td>\n",
       "      <td>5</td>\n",
       "    </tr>\n",
       "    <tr>\n",
       "      <th>19</th>\n",
       "      <td>20</td>\n",
       "      <td>Poland</td>\n",
       "      <td>1</td>\n",
       "      <td>0</td>\n",
       "      <td>1</td>\n",
       "      <td>2</td>\n",
       "    </tr>\n",
       "    <tr>\n",
       "      <th>20</th>\n",
       "      <td>21</td>\n",
       "      <td>Hungary</td>\n",
       "      <td>1</td>\n",
       "      <td>0</td>\n",
       "      <td>0</td>\n",
       "      <td>1</td>\n",
       "    </tr>\n",
       "    <tr>\n",
       "      <th>21</th>\n",
       "      <td>21</td>\n",
       "      <td>Ukraine</td>\n",
       "      <td>1</td>\n",
       "      <td>0</td>\n",
       "      <td>0</td>\n",
       "      <td>1</td>\n",
       "    </tr>\n",
       "    <tr>\n",
       "      <th>22</th>\n",
       "      <td>23</td>\n",
       "      <td>Australia</td>\n",
       "      <td>0</td>\n",
       "      <td>2</td>\n",
       "      <td>1</td>\n",
       "      <td>3</td>\n",
       "    </tr>\n",
       "    <tr>\n",
       "      <th>23</th>\n",
       "      <td>24</td>\n",
       "      <td>Slovenia</td>\n",
       "      <td>0</td>\n",
       "      <td>1</td>\n",
       "      <td>1</td>\n",
       "      <td>2</td>\n",
       "    </tr>\n",
       "    <tr>\n",
       "      <th>24</th>\n",
       "      <td>25</td>\n",
       "      <td>Belgium</td>\n",
       "      <td>0</td>\n",
       "      <td>1</td>\n",
       "      <td>0</td>\n",
       "      <td>1</td>\n",
       "    </tr>\n",
       "    <tr>\n",
       "      <th>25</th>\n",
       "      <td>26</td>\n",
       "      <td>Spain</td>\n",
       "      <td>0</td>\n",
       "      <td>0</td>\n",
       "      <td>2</td>\n",
       "      <td>2</td>\n",
       "    </tr>\n",
       "    <tr>\n",
       "      <th>26</th>\n",
       "      <td>26</td>\n",
       "      <td>New Zealand</td>\n",
       "      <td>0</td>\n",
       "      <td>0</td>\n",
       "      <td>2</td>\n",
       "      <td>2</td>\n",
       "    </tr>\n",
       "    <tr>\n",
       "      <th>27</th>\n",
       "      <td>28</td>\n",
       "      <td>Kazakhstan</td>\n",
       "      <td>0</td>\n",
       "      <td>0</td>\n",
       "      <td>1</td>\n",
       "      <td>1</td>\n",
       "    </tr>\n",
       "    <tr>\n",
       "      <th>28</th>\n",
       "      <td>28</td>\n",
       "      <td>Latvia</td>\n",
       "      <td>0</td>\n",
       "      <td>0</td>\n",
       "      <td>1</td>\n",
       "      <td>1</td>\n",
       "    </tr>\n",
       "    <tr>\n",
       "      <th>29</th>\n",
       "      <td>28</td>\n",
       "      <td>Liechtenstein</td>\n",
       "      <td>0</td>\n",
       "      <td>0</td>\n",
       "      <td>1</td>\n",
       "      <td>1</td>\n",
       "    </tr>\n",
       "  </tbody>\n",
       "</table>\n",
       "</div>"
      ],
      "text/plain": [
       "    Rank                NOC  Gold  Silver  Bronze  Total\n",
       "0      1             Norway    14      14      11     39\n",
       "1      2            Germany    14      10       7     31\n",
       "2      3             Canada    11       8      10     29\n",
       "3      4      United States     9       8       6     23\n",
       "4      5        Netherlands     8       6       6     20\n",
       "5      6             Sweden     7       6       1     14\n",
       "6      7  Republic of Korea     5       8       4     17\n",
       "7      8        Switzerland     5       6       4     15\n",
       "8      9             France     5       4       6     15\n",
       "9     10            Austria     5       3       6     14\n",
       "10    11              Japan     4       5       4     13\n",
       "11    12              Italy     3       2       5     10\n",
       "12    13                OAR     2       6       9     17\n",
       "13    14     Czech Republic     2       2       3      7\n",
       "14    15            Belarus     2       1       0      3\n",
       "15    16              China     1       6       2      9\n",
       "16    17           Slovakia     1       2       0      3\n",
       "17    18            Finland     1       1       4      6\n",
       "18    19      Great Britain     1       0       4      5\n",
       "19    20             Poland     1       0       1      2\n",
       "20    21            Hungary     1       0       0      1\n",
       "21    21            Ukraine     1       0       0      1\n",
       "22    23          Australia     0       2       1      3\n",
       "23    24           Slovenia     0       1       1      2\n",
       "24    25            Belgium     0       1       0      1\n",
       "25    26              Spain     0       0       2      2\n",
       "26    26        New Zealand     0       0       2      2\n",
       "27    28         Kazakhstan     0       0       1      1\n",
       "28    28             Latvia     0       0       1      1\n",
       "29    28      Liechtenstein     0       0       1      1"
      ]
     },
     "execution_count": 96,
     "metadata": {},
     "output_type": "execute_result"
    }
   ],
   "source": [
    "df = pd.read_csv(\"2018WinterOlympics.csv\")\n",
    "\n",
    "data = [go.Bar(x=df[\"NOC\"],y=df[\"Total\"])]\n",
    "layout=go.Layout(title=\"Medals\")\n",
    "fig = go.Figure(data,layout)\n",
    "pyo.plot(fig)\n",
    "df"
   ]
  },
  {
   "cell_type": "code",
   "execution_count": 83,
   "metadata": {},
   "outputs": [
    {
     "data": {
      "text/plain": [
       "'temp-plot.html'"
      ]
     },
     "execution_count": 83,
     "metadata": {},
     "output_type": "execute_result"
    }
   ],
   "source": [
    "#Nested BAr Chart\n",
    "#created traces for each metal\n",
    "trace1 = go.Bar(x=df[\"NOC\"],y=df[\"Gold\"],\n",
    "                name=\"Gold\",marker={\"color\": \"#FFD700\"})\n",
    "trace2 = go.Bar(x=df[\"NOC\"],y=df[\"Silver\"],\n",
    "                name=\"Silver\",marker={\"color\": \"#9EA0A1\"})\n",
    "trace3 = go.Bar(x=df[\"NOC\"],y=df[\"Bronze\"],\n",
    "                name=\"Bronze\",marker={\"color\": \"#CD7F32\"})\n",
    "\n",
    "data = [trace1,trace2,trace3]\n",
    "layout=go.Layout(title=\"Medals\") #change to stacked by writing barmode=\"stack\"\n",
    "fig = go.Figure(data=data,layout=layout)\n",
    "pyo.plot(fig)"
   ]
  },
  {
   "cell_type": "markdown",
   "metadata": {},
   "source": [
    "### Bar chart exercise: Create a stacked bar chart"
   ]
  },
  {
   "cell_type": "code",
   "execution_count": 98,
   "metadata": {},
   "outputs": [
    {
     "name": "stdout",
     "output_type": "stream",
     "text": [
      "   Unnamed: 0  Strongly Agree  Somewhat Agree  Neutral  Somewhat Disagree  \\\n",
      "0  Question 1            0.45            0.25     0.10               0.12   \n",
      "1  Question 2            0.12            0.07     0.48               0.18   \n",
      "2  Question 3            0.05            0.22     0.19               0.23   \n",
      "\n",
      "   Strongly Disagree  \n",
      "0               0.08  \n",
      "1               0.15  \n",
      "2               0.31  \n"
     ]
    }
   ],
   "source": [
    "df = pd.read_csv(\"mocksurvey.csv\")\n",
    "print(df)"
   ]
  },
  {
   "cell_type": "code",
   "execution_count": 99,
   "metadata": {},
   "outputs": [
    {
     "data": {
      "text/plain": [
       "'temp-plot.html'"
      ]
     },
     "execution_count": 99,
     "metadata": {},
     "output_type": "execute_result"
    }
   ],
   "source": [
    "data = [go.Bar(x=df.index,y=df[response],name=response) for response in df.columns]\n",
    "#x represents categories which should be unique, and y represents values of columns per category\n",
    "#orientation = \"h\" gives us horizontal barplot\n",
    "layout = go.Layout(title = \"Survey Results\", barmode = \"stack\")\n",
    "\n",
    "fig = go.Figure(data=data,layout=layout)\n",
    "pyo.plot(fig)"
   ]
  },
  {
   "cell_type": "markdown",
   "metadata": {},
   "source": [
    "## Bubble Charts\n",
    "- similar to scatter plots except we now convey a third variable's info through size of markers"
   ]
  },
  {
   "cell_type": "code",
   "execution_count": 8,
   "metadata": {
    "scrolled": false
   },
   "outputs": [
    {
     "data": {
      "text/html": [
       "<div>\n",
       "<style scoped>\n",
       "    .dataframe tbody tr th:only-of-type {\n",
       "        vertical-align: middle;\n",
       "    }\n",
       "\n",
       "    .dataframe tbody tr th {\n",
       "        vertical-align: top;\n",
       "    }\n",
       "\n",
       "    .dataframe thead th {\n",
       "        text-align: right;\n",
       "    }\n",
       "</style>\n",
       "<table border=\"1\" class=\"dataframe\">\n",
       "  <thead>\n",
       "    <tr style=\"text-align: right;\">\n",
       "      <th></th>\n",
       "      <th>mpg</th>\n",
       "      <th>cylinders</th>\n",
       "      <th>displacement</th>\n",
       "      <th>horsepower</th>\n",
       "      <th>weight</th>\n",
       "      <th>acceleration</th>\n",
       "      <th>model_year</th>\n",
       "      <th>origin</th>\n",
       "      <th>name</th>\n",
       "    </tr>\n",
       "  </thead>\n",
       "  <tbody>\n",
       "    <tr>\n",
       "      <th>0</th>\n",
       "      <td>18.0</td>\n",
       "      <td>8</td>\n",
       "      <td>307.0</td>\n",
       "      <td>130</td>\n",
       "      <td>3504</td>\n",
       "      <td>12.0</td>\n",
       "      <td>70</td>\n",
       "      <td>1</td>\n",
       "      <td>chevrolet chevelle malibu</td>\n",
       "    </tr>\n",
       "    <tr>\n",
       "      <th>1</th>\n",
       "      <td>15.0</td>\n",
       "      <td>8</td>\n",
       "      <td>350.0</td>\n",
       "      <td>165</td>\n",
       "      <td>3693</td>\n",
       "      <td>11.5</td>\n",
       "      <td>70</td>\n",
       "      <td>1</td>\n",
       "      <td>buick skylark 320</td>\n",
       "    </tr>\n",
       "    <tr>\n",
       "      <th>2</th>\n",
       "      <td>18.0</td>\n",
       "      <td>8</td>\n",
       "      <td>318.0</td>\n",
       "      <td>150</td>\n",
       "      <td>3436</td>\n",
       "      <td>11.0</td>\n",
       "      <td>70</td>\n",
       "      <td>1</td>\n",
       "      <td>plymouth satellite</td>\n",
       "    </tr>\n",
       "    <tr>\n",
       "      <th>3</th>\n",
       "      <td>16.0</td>\n",
       "      <td>8</td>\n",
       "      <td>304.0</td>\n",
       "      <td>150</td>\n",
       "      <td>3433</td>\n",
       "      <td>12.0</td>\n",
       "      <td>70</td>\n",
       "      <td>1</td>\n",
       "      <td>amc rebel sst</td>\n",
       "    </tr>\n",
       "    <tr>\n",
       "      <th>4</th>\n",
       "      <td>17.0</td>\n",
       "      <td>8</td>\n",
       "      <td>302.0</td>\n",
       "      <td>140</td>\n",
       "      <td>3449</td>\n",
       "      <td>10.5</td>\n",
       "      <td>70</td>\n",
       "      <td>1</td>\n",
       "      <td>ford torino</td>\n",
       "    </tr>\n",
       "  </tbody>\n",
       "</table>\n",
       "</div>"
      ],
      "text/plain": [
       "    mpg  cylinders  displacement horsepower  weight  acceleration  model_year  \\\n",
       "0  18.0          8         307.0        130    3504          12.0          70   \n",
       "1  15.0          8         350.0        165    3693          11.5          70   \n",
       "2  18.0          8         318.0        150    3436          11.0          70   \n",
       "3  16.0          8         304.0        150    3433          12.0          70   \n",
       "4  17.0          8         302.0        140    3449          10.5          70   \n",
       "\n",
       "   origin                       name  \n",
       "0       1  chevrolet chevelle malibu  \n",
       "1       1          buick skylark 320  \n",
       "2       1         plymouth satellite  \n",
       "3       1              amc rebel sst  \n",
       "4       1                ford torino  "
      ]
     },
     "execution_count": 8,
     "metadata": {},
     "output_type": "execute_result"
    }
   ],
   "source": [
    "df = pd.read_csv(\"mpg.csv\")\n",
    "df.head()"
   ]
  },
  {
   "cell_type": "code",
   "execution_count": 102,
   "metadata": {},
   "outputs": [],
   "source": [
    "data = [go.Scatter(x=df[\"horsepower\"],y=df[\"mpg\"],\n",
    "                  text = df[\"name\"],\n",
    "                  mode = \"markers\",\n",
    "                  marker=dict(size=2*df[\"cylinders\"]))] #text will display actual model of the car when you hover\n",
    "#so some markers with more cylinders will be larger"
   ]
  },
  {
   "cell_type": "code",
   "execution_count": 103,
   "metadata": {},
   "outputs": [
    {
     "data": {
      "text/plain": [
       "'temp-plot.html'"
      ]
     },
     "execution_count": 103,
     "metadata": {},
     "output_type": "execute_result"
    }
   ],
   "source": [
    "layout=go.Layout(title=\"bubble chart\")\n",
    "fig = go.Figure(data=data,layout=layout)\n",
    "pyo.plot(fig)"
   ]
  },
  {
   "cell_type": "code",
   "execution_count": 106,
   "metadata": {},
   "outputs": [
    {
     "data": {
      "text/plain": [
       "'temp-plot.html'"
      ]
     },
     "execution_count": 106,
     "metadata": {},
     "output_type": "execute_result"
    }
   ],
   "source": [
    "#Make bubble chart to some other value\n",
    "#weight\n",
    "data = [go.Scatter(x=df[\"horsepower\"],y=df[\"mpg\"],\n",
    "                  text = df[\"name\"],\n",
    "                  mode = \"markers\",\n",
    "                  marker=dict(size=df[\"weight\"]/100, color = df[\"cylinders\"],showscale=True))] #adjust bubble size by using marker, color according to cylinder factor too\n",
    "layout=go.Layout(title=\"bubble chart\")\n",
    "fig = go.Figure(data=data,layout=layout)\n",
    "pyo.plot(fig)"
   ]
  },
  {
   "cell_type": "markdown",
   "metadata": {},
   "source": [
    "### Task: Create bubble chart that cmpares three other features from mpg.csv dataset."
   ]
  },
  {
   "cell_type": "code",
   "execution_count": 107,
   "metadata": {},
   "outputs": [
    {
     "data": {
      "text/plain": [
       "'temp-plot.html'"
      ]
     },
     "execution_count": 107,
     "metadata": {},
     "output_type": "execute_result"
    }
   ],
   "source": [
    "data = [go.Scatter(x=df[\"displacement\"],\n",
    "                  y = df[\"acceleration\"],\n",
    "                  text = df[\"name\"],\n",
    "                  mode = \"markers\",\n",
    "                  marker = dict(size=df[\"weight\"]/400))]\n",
    "layout = go.Layout(title=\"Bubble solution\",hovermode=\"closest\")\n",
    "fig = go.Figure(data=data,layout=layout)\n",
    "pyo.plot(fig)"
   ]
  },
  {
   "cell_type": "markdown",
   "metadata": {},
   "source": [
    "## Boxplots"
   ]
  },
  {
   "cell_type": "code",
   "execution_count": 120,
   "metadata": {},
   "outputs": [
    {
     "data": {
      "text/plain": [
       "[1, 14, 14, 15, 16, 18, 18, 19, 19, 20, 20, 23, 24, 26, 27, 27, 28, 29, 33, 54]"
      ]
     },
     "execution_count": 120,
     "metadata": {},
     "output_type": "execute_result"
    }
   ],
   "source": [
    "y = [1,14,14,15,16,18,18,19,19,20,20,23,24,26,27,27,28,29,33,54]\n",
    "y"
   ]
  },
  {
   "cell_type": "code",
   "execution_count": 122,
   "metadata": {},
   "outputs": [
    {
     "data": {
      "text/plain": [
       "'temp-plot.html'"
      ]
     },
     "execution_count": 122,
     "metadata": {},
     "output_type": "execute_result"
    }
   ],
   "source": [
    "data = [go.Box(y=y,boxpoints=\"all\",jitter=0.3,pointpos=0)]\n",
    "#boxpoints gives all data points, jitter will spread out values so all data points aper\n",
    "#pointpos = 0 puts points right on top of the box, positive nos. are to the right of the boxplot\n",
    "pyo.plot(data)"
   ]
  },
  {
   "cell_type": "code",
   "execution_count": 124,
   "metadata": {},
   "outputs": [
    {
     "data": {
      "text/plain": [
       "'temp-plot.html'"
      ]
     },
     "execution_count": 124,
     "metadata": {},
     "output_type": "execute_result"
    }
   ],
   "source": [
    "#plotting two points\n",
    "snodgrass = [.209,.205,.196,.210,.202,.207,.224,.223,.220,.201]\n",
    "twain = [.225,.262,.217,.240,.230,.229,.235,.217]\n",
    "\n",
    "data = [go.Box(y=snodgrass,name=\"Snodgrass\"),\n",
    "       go.Box(y=twain,name=\"Twain\")]\n",
    "pyo.plot(data)"
   ]
  },
  {
   "cell_type": "markdown",
   "metadata": {},
   "source": [
    "### Exercise: Make df using abalone dataset and take two ind random samples of diff sizes from rings field. Use boxplots to show that samples derive from same population"
   ]
  },
  {
   "cell_type": "code",
   "execution_count": 134,
   "metadata": {},
   "outputs": [],
   "source": [
    "df = pd.read_csv(\"abalone.csv\")\n",
    "samp1 = np.random.choice(df[\"rings\"],30,replace=False)\n",
    "samp2 = np.random.choice(df[\"rings\"],20,replace=False)"
   ]
  },
  {
   "cell_type": "code",
   "execution_count": 135,
   "metadata": {},
   "outputs": [
    {
     "data": {
      "text/plain": [
       "'temp-plot.html'"
      ]
     },
     "execution_count": 135,
     "metadata": {},
     "output_type": "execute_result"
    }
   ],
   "source": [
    "data = [go.Box(y=samp1, name = \"Sample1\"),\n",
    "       go.Box(y=samp2, name = \"Sample2\")]\n",
    "pyo.plot(data)"
   ]
  },
  {
   "cell_type": "markdown",
   "metadata": {},
   "source": [
    "## Histograms\n",
    "- Histogram is good for representing interval data (data with a range)"
   ]
  },
  {
   "cell_type": "code",
   "execution_count": 3,
   "metadata": {},
   "outputs": [],
   "source": [
    "import pandas as pd"
   ]
  },
  {
   "cell_type": "code",
   "execution_count": 5,
   "metadata": {},
   "outputs": [],
   "source": [
    "df = pd.read_csv(\"mpg.csv\")"
   ]
  },
  {
   "cell_type": "code",
   "execution_count": 9,
   "metadata": {},
   "outputs": [
    {
     "data": {
      "text/plain": [
       "'temp-plot.html'"
      ]
     },
     "execution_count": 9,
     "metadata": {},
     "output_type": "execute_result"
    }
   ],
   "source": [
    "data = [go.Histogram(x=df[\"mpg\"],xbins=dict(start=0,end=25,size=10))] #show only cars from 0-25 mpg\n",
    "#represents size of each bin\n",
    "\n",
    "layout = go.Layout(title = \"Histogram\")\n",
    "fig = go.Figure(data=data,layout=layout)\n",
    "pyo.plot(fig)"
   ]
  },
  {
   "cell_type": "markdown",
   "metadata": {},
   "source": [
    "## Histogram Exercise\n",
    "- Create histogram that plots length field from Abalone dataset\n",
    "- Set range form 0-1, bin size 0.02"
   ]
  },
  {
   "cell_type": "code",
   "execution_count": 13,
   "metadata": {},
   "outputs": [
    {
     "name": "stdout",
     "output_type": "stream",
     "text": [
      "  sex  length  diameter  height  whole_weight  shucked_weight  viscera_weight  \\\n",
      "0   M   0.455     0.365   0.095        0.5140          0.2245          0.1010   \n",
      "1   M   0.350     0.265   0.090        0.2255          0.0995          0.0485   \n",
      "2   F   0.530     0.420   0.135        0.6770          0.2565          0.1415   \n",
      "3   M   0.440     0.365   0.125        0.5160          0.2155          0.1140   \n",
      "4   I   0.330     0.255   0.080        0.2050          0.0895          0.0395   \n",
      "\n",
      "   shell_weight  rings  \n",
      "0         0.150     15  \n",
      "1         0.070      7  \n",
      "2         0.210      9  \n",
      "3         0.155     10  \n",
      "4         0.055      7  \n"
     ]
    }
   ],
   "source": [
    "df = pd.read_csv(\"abalone.csv\")\n",
    "print(df.head())"
   ]
  },
  {
   "cell_type": "code",
   "execution_count": 14,
   "metadata": {},
   "outputs": [
    {
     "data": {
      "text/plain": [
       "'temp-plot.html'"
      ]
     },
     "execution_count": 14,
     "metadata": {},
     "output_type": "execute_result"
    }
   ],
   "source": [
    "data = [go.Histogram(x = df[\"length\"], xbins=dict(start=0,end=1,size=0.02))]\n",
    "layout = go.Layout(title = \"Histogram\")\n",
    "figure = go.Figure(data=data,layout=layout)\n",
    "pyo.plot(figure)"
   ]
  },
  {
   "cell_type": "markdown",
   "metadata": {},
   "source": [
    "## Distribution plots"
   ]
  },
  {
   "cell_type": "code",
   "execution_count": 15,
   "metadata": {},
   "outputs": [],
   "source": [
    "import plotly.figure_factory as ff"
   ]
  },
  {
   "cell_type": "code",
   "execution_count": 16,
   "metadata": {},
   "outputs": [],
   "source": [
    "x = np.random.randn(200) #normally distirbuted data thats random"
   ]
  },
  {
   "cell_type": "code",
   "execution_count": 17,
   "metadata": {},
   "outputs": [
    {
     "data": {
      "text/plain": [
       "'temp-plot.html'"
      ]
     },
     "execution_count": 17,
     "metadata": {},
     "output_type": "execute_result"
    }
   ],
   "source": [
    "hist_data = [x]\n",
    "group_labels = [\"distplot\"]\n",
    "\n",
    "fig = ff.create_distplot(hist_data, group_labels)\n",
    "pyo.plot(fig)"
   ]
  },
  {
   "cell_type": "code",
   "execution_count": 18,
   "metadata": {},
   "outputs": [],
   "source": [
    "x1 = np.random.randn(200)-2\n",
    "x2 = np.random.randn(200)\n",
    "x3 = np.random.randn(200)+2\n",
    "x4 = np.random.randn(200)+4"
   ]
  },
  {
   "cell_type": "code",
   "execution_count": 22,
   "metadata": {},
   "outputs": [
    {
     "data": {
      "text/plain": [
       "'temp-plot.html'"
      ]
     },
     "execution_count": 22,
     "metadata": {},
     "output_type": "execute_result"
    }
   ],
   "source": [
    "hist_data = [x1,x2,x3,x4]\n",
    "group_labels =  [\"X1\",\"X2\",\"X3\",\"X4\"]\n",
    "\n",
    "fig = ff.create_distplot(hist_data,group_labels,bin_size=[.2,.1,.3,.4]) #bin size is in order of our data\n",
    "#bin size will be adjusted according to the order of data\n",
    "\n",
    "pyo.plot(fig)"
   ]
  },
  {
   "cell_type": "markdown",
   "metadata": {},
   "source": [
    "### More realistic data"
   ]
  },
  {
   "cell_type": "code",
   "execution_count": 23,
   "metadata": {},
   "outputs": [
    {
     "data": {
      "text/plain": [
       "'temp-plot.html'"
      ]
     },
     "execution_count": 23,
     "metadata": {},
     "output_type": "execute_result"
    }
   ],
   "source": [
    "snodgrass = [.209,.205,.196,.210,.202,.207,.224,.223,.220,.201]\n",
    "twain = [.225,.262,.217,.240,.230,.229,.235,.217]\n",
    "\n",
    "hist_data = [snodgrass,twain]\n",
    "group_labels = [\"Snodgrass Writings\", \"Mark Twain Writings\"]\n",
    "\n",
    "fig = ff.create_distplot(hist_data,group_labels,bin_size = [0.005, 0.005])\n",
    "pyo.plot(fig)"
   ]
  },
  {
   "cell_type": "markdown",
   "metadata": {},
   "source": [
    "## Dist plot exercise\n",
    "- Dist plot of petal length for each class"
   ]
  },
  {
   "cell_type": "code",
   "execution_count": null,
   "metadata": {},
   "outputs": [],
   "source": []
  }
 ],
 "metadata": {
  "kernelspec": {
   "display_name": "Python 3",
   "language": "python",
   "name": "python3"
  },
  "language_info": {
   "codemirror_mode": {
    "name": "ipython",
    "version": 3
   },
   "file_extension": ".py",
   "mimetype": "text/x-python",
   "name": "python",
   "nbconvert_exporter": "python",
   "pygments_lexer": "ipython3",
   "version": "3.7.3"
  }
 },
 "nbformat": 4,
 "nbformat_minor": 2
}
